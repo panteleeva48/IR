{
 "cells": [
  {
   "cell_type": "markdown",
   "metadata": {
    "collapsed": true
   },
   "source": [
    "#### Ссылка на корпус: https://drive.google.com/drive/u/0/folders/1BMbFqjGr-QsH5YX-mPd9P3653qf7MI-a"
   ]
  },
  {
   "cell_type": "code",
   "execution_count": 1,
   "metadata": {
    "collapsed": true
   },
   "outputs": [],
   "source": [
    "import requests\n",
    "import urllib\n",
    "from bs4 import BeautifulSoup\n",
    "import random\n",
    "import time\n",
    "from tqdm import tqdm_notebook as tqdm\n",
    "import re\n",
    "import unicodedata\n",
    "import collections"
   ]
  },
  {
   "cell_type": "code",
   "execution_count": 2,
   "metadata": {
    "collapsed": true
   },
   "outputs": [],
   "source": [
    "def bs(url):\n",
    "    req = requests.get(url)\n",
    "    html= req.text\n",
    "    soup = BeautifulSoup(html, \"lxml\")\n",
    "    return soup"
   ]
  },
  {
   "cell_type": "code",
   "execution_count": 3,
   "metadata": {
    "collapsed": true
   },
   "outputs": [],
   "source": [
    "def clean(text):\n",
    "    text = re.sub('\\n', '', text)\n",
    "    text = unicodedata.normalize(\"NFKD\", text)\n",
    "    text = re.sub(' +', ' ', text)\n",
    "    text = text.strip()\n",
    "    return text"
   ]
  },
  {
   "cell_type": "code",
   "execution_count": 4,
   "metadata": {
    "collapsed": true
   },
   "outputs": [],
   "source": [
    "def clean_info(text):\n",
    "    text = re.sub('(\\n)+', ' ', text)\n",
    "    text = unicodedata.normalize(\"NFKD\", text)\n",
    "    text = re.sub('Адрес|Компания|Контактное лицо', ' ', text)\n",
    "    text = re.sub('( ){2,}', ', ', text)\n",
    "    text = text.strip()[2:-1]\n",
    "    return text"
   ]
  },
  {
   "cell_type": "code",
   "execution_count": 5,
   "metadata": {
    "collapsed": true
   },
   "outputs": [],
   "source": [
    "def try_except(soup, _tag, _class, _group='class'):\n",
    "    try:\n",
    "        item = soup.find(_tag, attrs={_group:_class}).text\n",
    "    except:\n",
    "        item = 'NAN'\n",
    "    return item"
   ]
  },
  {
   "cell_type": "code",
   "execution_count": 6,
   "metadata": {
    "collapsed": true
   },
   "outputs": [],
   "source": [
    "def find_info(soup, url):\n",
    "    text = ''\n",
    "    title = try_except(soup, 'span', 'title-info-title-text')\n",
    "    num_date = try_except(soup, 'div', 'title-info-metadata-item')\n",
    "    price = try_except(soup, 'span', 'price-value-string js-price-value-string')\n",
    "    info_author = try_except(soup, 'div', 'item-view-seller-info')\n",
    "    dog_params = try_except(soup, 'div', 'item-params')\n",
    "    dog_location = try_except(soup, 'div', 'item-map-location')\n",
    "    dog_description = try_except(soup, 'div', 'description', _group='itemprop')\n",
    "    text = 'Название: ' + clean(title) + '\\n' + \\\n",
    "    'Номер и дата объявления: ' + clean(num_date) + '\\n' + \\\n",
    "    'Информация об авторе: ' + clean_info(info_author) + '\\n' + \\\n",
    "    'Адрес собаки: ' + clean(dog_location).replace('Адрес: ', '').replace(' Посмотреть карту', '') + '\\n' + \\\n",
    "    clean(dog_params) + '\\n' + \\\n",
    "    'Цена: ' + clean(price) + '\\n' + \\\n",
    "    'Описание собаки: ' + clean(dog_description) + '\\n' + \\\n",
    "    'URL: ' + url\n",
    "    return text"
   ]
  },
  {
   "cell_type": "raw",
   "metadata": {},
   "source": [
    "def find_info(soup, url):\n",
    "    dict_info = {}\n",
    "    text = ''\n",
    "    title = try_except(soup, 'span', 'title-info-title-text')\n",
    "    num_date = try_except(soup, 'div', 'title-info-metadata-item')\n",
    "    price = try_except(soup, 'span', 'price-value-string js-price-value-string')\n",
    "    info_author = try_except(soup, 'div', 'item-view-seller-info')\n",
    "    dog_params = try_except(soup, 'div', 'item-params')\n",
    "    dog_location = try_except(soup, 'div', 'item-map-location')\n",
    "    dog_description = try_except(soup, 'div', 'description', _group='itemprop')\n",
    "    dict_info['Название'] = clean(title)\n",
    "    dict_info['Номер и дата объявления'] = clean(num_date)\n",
    "    dict_info['Цена'] = clean(price)\n",
    "    dict_info['Информация об авторе'] = clean_info(info_author)\n",
    "    dict_info['Параметры собаки'] = clean(dog_params)\n",
    "    dict_info['Адрес собаки'] = clean(dog_location)\n",
    "    dict_info['Описание собаки'] = clean(dog_description)\n",
    "    text = 'Название: ' + dict_info['Название'] + '\\n' + \\\n",
    "    'Номер и дата объявления: ' + dict_info['Номер и дата объявления'] + '\\n' + \\\n",
    "    'Информация об авторе: ' + dict_info['Информация об авторе'] + '\\n' + \\\n",
    "    'Адрес собаки: ' + dict_info['Адрес собаки'].replace('Адрес: ', '').replace(' Посмотреть карту', '') + '\\n' + \\\n",
    "    dict_info['Параметры собаки'] + '\\n' + \\\n",
    "    'Цена: ' + dict_info['Цена'] + '\\n' + \\\n",
    "    'Описание собаки: ' + dict_info['Описание собаки'] + '\\n' + \\\n",
    "    'URL: ' + url\n",
    "    return text"
   ]
  },
  {
   "cell_type": "code",
   "execution_count": 7,
   "metadata": {},
   "outputs": [],
   "source": [
    "def write_file(text, name):\n",
    "    name = name.replace('/', '$')#.replace(':', '$')\n",
    "    file = open('/Users/irene/Downloads/IR/avito_dogs/' + name + \".txt\", \"w\") \n",
    "    file.write(text)\n",
    "    file.close()"
   ]
  },
  {
   "cell_type": "markdown",
   "metadata": {},
   "source": [
    "#### Пример"
   ]
  },
  {
   "cell_type": "code",
   "execution_count": 8,
   "metadata": {},
   "outputs": [],
   "source": [
    "url_of_article = '/sankt-peterburg/sobaki/shpits_1602362094'\n",
    "begin = 'https://www.avito.ru'\n",
    "clean_url = begin + url_of_article\n",
    "soup_page = bs(clean_url)\n",
    "text = find_info(soup_page, clean_url)\n",
    "write_file(text, url_of_article)"
   ]
  },
  {
   "cell_type": "code",
   "execution_count": 9,
   "metadata": {},
   "outputs": [
    {
     "data": {
      "text/plain": [
       "'Название: Шпиц\\nНомер и дата объявления: No 1602362094, размещено вчера в 12:50\\nИнформация об авторе: Маленький Ангел, На Авито c августа 2011, Завершено 200 объявлений, Публичный профиль, 6 объявлений пользователя, Светлана, Санкт-Петербург, м. Парк Победы\\nАдрес собаки: Санкт-Петербург, м. Парк Победы\\nПорода: шпиц\\nЦена: 25 000 ₽\\nОписание собаки: Щенки померанского шпица 2мес., документы РКФ, привиты по возрасту. Папа 💯% Америка и мама живут в одном доме.Консультации заводчика по вопросам ухода и воспитания пожизненно. ДИАПАЗОН ЦЕН.\\nURL: https://www.avito.ru/sankt-peterburg/sobaki/shpits_1602362094'"
      ]
     },
     "execution_count": 9,
     "metadata": {},
     "output_type": "execute_result"
    }
   ],
   "source": [
    "text"
   ]
  },
  {
   "cell_type": "markdown",
   "metadata": {},
   "source": [
    "#### Выкачиваем корпус"
   ]
  },
  {
   "cell_type": "code",
   "execution_count": null,
   "metadata": {},
   "outputs": [],
   "source": [
    "for x in tqdm(range(1, 101)):\n",
    "    sec1 = random.uniform(0, 10)\n",
    "    url = 'https://www.avito.ru/rossiya/sobaki?p=' + str(x) + '&view=list'\n",
    "    soup = bs(url)\n",
    "    articles = soup.find_all('a', attrs={'class':'description-title-link'})\n",
    "    time.sleep(sec1)\n",
    "    for item in articles:\n",
    "        url_of_article = item.get('href')\n",
    "        begin = 'https://www.avito.ru'\n",
    "        clean_url = begin + url_of_article\n",
    "        soup_page = bs(clean_url)\n",
    "        text = find_info(soup_page, clean_url)\n",
    "        write_file(text, url_of_article)\n",
    "        sec2 = random.uniform(0, 10)\n",
    "        time.sleep(sec2)"
   ]
  },
  {
   "cell_type": "code",
   "execution_count": null,
   "metadata": {
    "collapsed": true
   },
   "outputs": [],
   "source": []
  }
 ],
 "metadata": {
  "kernelspec": {
   "display_name": "Python 3",
   "language": "python",
   "name": "python3"
  },
  "language_info": {
   "codemirror_mode": {
    "name": "ipython",
    "version": 3
   },
   "file_extension": ".py",
   "mimetype": "text/x-python",
   "name": "python",
   "nbconvert_exporter": "python",
   "pygments_lexer": "ipython3",
   "version": "3.6.3"
  }
 },
 "nbformat": 4,
 "nbformat_minor": 2
}
