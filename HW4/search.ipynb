{
 "cells": [
  {
   "cell_type": "markdown",
   "metadata": {},
   "source": [
    "## ДЗ по поиску\n",
    "\n",
    "Привет! Вам надо реализивать поисковик на базе вопросов-ответов с сайта [pravoved.ru](https://pravoved.ru/questions-archive/).        \n",
    "Поиск должен работать на трех технологиях:       \n",
    "1. обратном индексе     \n",
    "2. word2vec         \n",
    "3. doc2vec      \n",
    "\n",
    "Вы должны понять, какой метод и при каких условиях эксперимента на этом корпусе работает лучше.          \n",
    "Для измерения качества поиска найдите точность (accuracy) выпадания правильного ответа на конкретный вопрос (в этой базе у каждого вопроса есть только один правильный ответ). Точность нужно измерить для всей базы.    \n",
    "При этом давайте считать, что выпал правильный ответ, если он попал в **топ-5** поисковой выдачи.\n",
    "\n",
    "> Сделайте ваш поиск максимально качественным, чтобы значение точности стремилось к 1.     \n",
    "Для этого можно поэкспериментировать со следующим:       \n",
    "- модель word2vec (можно брать любую из опен сорса или обучить свою)\n",
    "- способ получения вектора документа через word2vec: простое среднее арифметическое или взвешивать каждый вектор в соответствии с его tf-idf      \n",
    "- количество эпох у doc2vec (начинайте от 100)\n",
    "- предобработка документов для обучения doc2vec (удалять / не удалять стоп-слова)\n",
    "- блендинг методов поиска: соединить результаты обратного индекса и w2v, или (что проще) w2v и d2v\n",
    "\n",
    "На это задание отведем 10 дней. Дэдлайн сдачи до полуночи 12.10."
   ]
  },
  {
   "cell_type": "code",
   "execution_count": 68,
   "metadata": {},
   "outputs": [],
   "source": [
    "from gensim.models import Word2Vec, KeyedVectors\n",
    "from nltk.corpus import stopwords\n",
    "from nltk.tokenize import word_tokenize\n",
    "import string\n",
    "import judicial_splitter\n",
    "import collections\n",
    "from pymystem3 import Mystem\n",
    "mystem = Mystem()\n",
    "import numpy as np\n",
    "from itertools import groupby\n",
    "from tqdm import tqdm_notebook as tqdm\n",
    "import os\n",
    "import pandas as pd\n",
    "from gensim.test.utils import get_tmpfile\n",
    "from gensim.models.doc2vec import Doc2Vec, TaggedDocument\n",
    "from nltk.tokenize import word_tokenize\n",
    "import operator\n",
    "import re\n",
    "from sklearn.feature_extraction.text import CountVectorizer\n",
    "import warnings\n",
    "warnings.filterwarnings(\"ignore\")\n",
    "import math\n",
    "from model import Model\n",
    "import sys\n",
    "if sys.version_info[0] < 3: \n",
    "    from StringIO import StringIO\n",
    "else:\n",
    "    from io import StringIO\n",
    "from operator import itemgetter "
   ]
  },
  {
   "cell_type": "code",
   "execution_count": 4,
   "metadata": {},
   "outputs": [],
   "source": [
    "import pickle\n",
    "\n",
    "with open('qa_corpus.pkl', 'rb') as file:\n",
    "    qa_corpus = pickle.load(file)"
   ]
  },
  {
   "cell_type": "markdown",
   "metadata": {},
   "source": [
    "Всего в корпусе 1384 пары вопрос-ответ"
   ]
  },
  {
   "cell_type": "code",
   "execution_count": 5,
   "metadata": {},
   "outputs": [
    {
     "data": {
      "text/plain": [
       "1384"
      ]
     },
     "execution_count": 5,
     "metadata": {},
     "output_type": "execute_result"
    }
   ],
   "source": [
    "len(qa_corpus)"
   ]
  },
  {
   "cell_type": "markdown",
   "metadata": {},
   "source": [
    "Первый элемент блока это вопрос, второй - ответ на него"
   ]
  },
  {
   "cell_type": "code",
   "execution_count": 6,
   "metadata": {},
   "outputs": [
    {
     "data": {
      "text/plain": [
       "['\\nДобрый день.Мой сын гражданин Украины (ДНР),имеет вид на жительство в Р.Ф., кот.получил проживая с 2014 г. в Нижегородской области.В 2017г. переехал на постоянное место жительство в г.Ростов.Официально трудоустроился на одно из промышл.предприятий г.Ростова.Оформил временную регистрацию в Ростове.В УФМС предупредили,что по истечении 90 дней он должен либо постоянно прописаться либо покинуть территорию России.Прошу проконсультировать как быть дальше.(Вернуться домой в Донецк,но здесь идет война,работы нет.В Ростове он работает по специальности.Он инженер машиностроитель.)Временная прописка до 15 марта.  Если он сможет приобрести какую либо недвижимость,как долго будет решаться вопрос о его постоянной прописке в Ростове.Как в этом случае будет решаться вопрос с видом на жительство в Ростове? Не получится ли ,что приобретя квартиру,он не успеет в ней прописаться до окончании срока временной регистрации. С уважением Людмила Евгеньевна.\\n',\n",
       " 'Добрый вечер!Из Вашего вопроса вообще ничего не ясно.Ваш сын по ВНЖ в Нижегородской обл. сделал временную\\xa0 на 90 дней в Ростове? Так? Или в чем заключается вопрос?С ув., АлёнаМиграционный юристРостов-на-Дону ']"
      ]
     },
     "execution_count": 6,
     "metadata": {},
     "output_type": "execute_result"
    }
   ],
   "source": [
    "qa_corpus[0]"
   ]
  },
  {
   "cell_type": "code",
   "execution_count": 7,
   "metadata": {
    "collapsed": true
   },
   "outputs": [],
   "source": [
    "questions, answers = [], []\n",
    "for qa in qa_corpus:\n",
    "    question = qa[0]\n",
    "    answer = qa[1]\n",
    "    questions.append(question)\n",
    "    answers.append(answer)"
   ]
  },
  {
   "cell_type": "code",
   "execution_count": 8,
   "metadata": {
    "collapsed": true
   },
   "outputs": [],
   "source": [
    "def preprocessing(input_text, del_stopwords=True, del_digit=True):\n",
    "    \"\"\"\n",
    "    :input: raw text\n",
    "        1. lowercase, del punctuation, tokenize\n",
    "        2. normal form\n",
    "        3. del stopwords\n",
    "        4. del digits\n",
    "    :return: lemmas\n",
    "    \"\"\"\n",
    "    russian_stopwords = set(stopwords.words('russian'))\n",
    "    if del_digit:\n",
    "        input_text = re.sub('[0-9]', '', input_text)\n",
    "    words = [x.lower().strip(string.punctuation+'»«–…') for x in word_tokenize(input_text)]\n",
    "    lemmas = [mystem.lemmatize(x)[0] for x in words if x]\n",
    "\n",
    "    lemmas_arr = []\n",
    "    for lemma in lemmas:\n",
    "        if del_stopwords:\n",
    "            if lemma in russian_stopwords:\n",
    "                continue\n",
    "        lemmas_arr.append(lemma)\n",
    "    return lemmas_arr"
   ]
  },
  {
   "cell_type": "markdown",
   "metadata": {},
   "source": [
    "# TF.IDF"
   ]
  },
  {
   "cell_type": "code",
   "execution_count": 9,
   "metadata": {
    "collapsed": true
   },
   "outputs": [],
   "source": [
    "def compute_tf(text):\n",
    "    tf_text = collections.Counter(text)\n",
    "    for i in tf_text:\n",
    "        tf_text[i] = tf_text[i]/float(len(text))\n",
    "    return tf_text"
   ]
  },
  {
   "cell_type": "code",
   "execution_count": 10,
   "metadata": {
    "collapsed": true
   },
   "outputs": [],
   "source": [
    "def compute_idf(word, corpus):\n",
    "    return math.log10(len(corpus)/sum([1.0 for i in corpus if word in i]))"
   ]
  },
  {
   "cell_type": "code",
   "execution_count": 11,
   "metadata": {
    "collapsed": true
   },
   "outputs": [],
   "source": [
    "def compute_tfidf(corpus):\n",
    "    documents_list = []\n",
    "    for text in tqdm(corpus):\n",
    "        tf_idf_dictionary = {}\n",
    "        computed_tf = compute_tf(text)\n",
    "        for word in computed_tf:\n",
    "            tf_idf_dictionary[word] = computed_tf[word] * compute_idf(word, corpus)\n",
    "        documents_list.append(tf_idf_dictionary)\n",
    "    return documents_list\n",
    "\n",
    "#corpus = [['pasta', 'la', 'vista', 'baby', 'la', 'vista'], \n",
    "#['hasta', 'siempre', 'comandante', 'baby', 'la', 'siempre'], \n",
    "#['siempre', 'comandante', 'baby', 'la', 'siempre']]\n",
    "#compute_tfidf(corpus)"
   ]
  },
  {
   "cell_type": "code",
   "execution_count": 12,
   "metadata": {
    "collapsed": true
   },
   "outputs": [],
   "source": [
    "def compute_new_tfidf(word, quary, corpus):\n",
    "    try:\n",
    "        quary = preprocessing(quary)\n",
    "        computed_tf = compute_tf(quary)[word]\n",
    "        tfidf = computed_tf * compute_idf(word, corpus)\n",
    "    except:\n",
    "        tfidf = 0.0\n",
    "    return tfidf"
   ]
  },
  {
   "cell_type": "code",
   "execution_count": 15,
   "metadata": {},
   "outputs": [
    {
     "data": {
      "application/vnd.jupyter.widget-view+json": {
       "model_id": "d38b497a129948ccb87c4382e444f96e",
       "version_major": 2,
       "version_minor": 0
      },
      "text/plain": [
       "A Jupyter Widget"
      ]
     },
     "metadata": {},
     "output_type": "display_data"
    },
    {
     "name": "stdout",
     "output_type": "stream",
     "text": [
      "\n"
     ]
    }
   ],
   "source": [
    "corpus = [preprocessing(q) for q in questions] + [preprocessing(a) for a in answers]\n",
    "tfidf = compute_tfidf(corpus)"
   ]
  },
  {
   "cell_type": "code",
   "execution_count": 16,
   "metadata": {
    "collapsed": true
   },
   "outputs": [],
   "source": [
    "tfidf_questions = tfidf[0:len(questions)]\n",
    "tfidf_answers = tfidf[len(questions):]"
   ]
  },
  {
   "cell_type": "code",
   "execution_count": 27,
   "metadata": {},
   "outputs": [
    {
     "data": {
      "text/plain": [
       "{'аленамиграционный': 0.15605499110868726,\n",
       " 'ваш': 0.044330684932159595,\n",
       " 'вечер': 0.07522783479366042,\n",
       " 'внж': 0.11926709614363364,\n",
       " 'вообще': 0.08438510500249814,\n",
       " 'вопрос': 0.08958962934297063,\n",
       " 'временный': 0.08683023138349823,\n",
       " 'день': 0.02898045411116609,\n",
       " 'добрый': 0.03888814250873994,\n",
       " 'заключаться': 0.10669435462178432,\n",
       " 'нижегородский': 0.15605499110868726,\n",
       " 'обл': 0.13094334612344186,\n",
       " 'ростов': 0.14947926812930304,\n",
       " 'сделать': 0.05746937197108196,\n",
       " 'сын': 0.0847187985830781,\n",
       " 'ува': 0.144378741128879,\n",
       " 'юристростов': 0.15605499110868726,\n",
       " 'ясно': 0.12436762314405765}"
      ]
     },
     "execution_count": 27,
     "metadata": {},
     "output_type": "execute_result"
    }
   ],
   "source": [
    "tfidf_answers[0]"
   ]
  },
  {
   "cell_type": "markdown",
   "metadata": {},
   "source": [
    "# w2v"
   ]
  },
  {
   "cell_type": "code",
   "execution_count": 17,
   "metadata": {
    "collapsed": true
   },
   "outputs": [],
   "source": [
    "# если модель без тэгов\n",
    "model_without_pos = Word2Vec.load('/Users/irene/Downloads/IR/araneum_none_fasttextcbow_300_5_2018/araneum_none_fasttextcbow_300_5_2018.model')"
   ]
  },
  {
   "cell_type": "code",
   "execution_count": 36,
   "metadata": {
    "collapsed": true
   },
   "outputs": [],
   "source": [
    "def get_w2v_vectors_paragraph(paragraph, model, tfidf, ind, multiply_tfidf=True, pos=False):\n",
    "    \"\"\"Получает вектор для параграфа\"\"\"\n",
    "    lemmas_paragraph = preprocessing(paragraph)\n",
    "    #print('lemmas_paragraph', lemmas_paragraph)\n",
    "    if len(lemmas_paragraph) == 0:\n",
    "        return np.zeros(300)\n",
    "    else:\n",
    "        vector_paragraph = []\n",
    "        for lemma in lemmas_paragraph:\n",
    "            if pos:\n",
    "                lemma = lemma + '_' + get_pos(lemma)\n",
    "            try:\n",
    "                if multiply_tfidf:\n",
    "                    tfidf = compute_new_tfidf(lemma, paragraph, corpus)\n",
    "                    vector = model.wv[lemma] * tfidf#_answers[ind][lemma]\n",
    "                else:\n",
    "                    vector = model.wv[lemma]\n",
    "            except:\n",
    "                vector = np.zeros(300)\n",
    "            vector_paragraph.append(vector)\n",
    "        vec = np.array(vector_paragraph).sum(axis=0) / len(vector_paragraph)\n",
    "        return vec.tolist()"
   ]
  },
  {
   "cell_type": "code",
   "execution_count": 29,
   "metadata": {
    "collapsed": true
   },
   "outputs": [],
   "source": [
    "def get_w2v_vectors_text(text, model, tfidf, ind, len_par=4, multiply_tfidf=True, pos=False):\n",
    "    \"\"\"Получает массив векторов параграфов\"\"\"\n",
    "    paragraphs = judicial_splitter.splitter(text, len_par)\n",
    "    return [(paragraph, get_w2v_vectors_paragraph(paragraph, model, tfidf, ind, multiply_tfidf=multiply_tfidf, pos=pos)) for paragraph in paragraphs]"
   ]
  },
  {
   "cell_type": "code",
   "execution_count": 30,
   "metadata": {
    "collapsed": true
   },
   "outputs": [],
   "source": [
    "def save_w2v_base(answers, model, tfidf, len_par=4, multiply_tfidf=True, pos=False):\n",
    "    \"\"\"Индексирует всю базу для поиска через word2vec\"\"\"\n",
    "    id_answer = []\n",
    "    text_of_paragraph = []\n",
    "    w2v = []\n",
    "    for i, answer in tqdm(enumerate(answers)):\n",
    "        v_paragraphs = get_w2v_vectors_text(answer, model, tfidf, i, len_par=len_par, multiply_tfidf=multiply_tfidf, pos=pos)\n",
    "        for v_p in v_paragraphs:\n",
    "            id_answer.append(i)\n",
    "            text_of_paragraph.append(v_p[0])\n",
    "            w2v.append(v_p[1])\n",
    "    return id_answer, text_of_paragraph, w2v"
   ]
  },
  {
   "cell_type": "code",
   "execution_count": 31,
   "metadata": {
    "collapsed": true
   },
   "outputs": [],
   "source": [
    "def create_df(name_cols, data_cols):\n",
    "    df = {}\n",
    "    for i, name in enumerate(name_cols):\n",
    "        df[name] = data_cols[i]\n",
    "    df = pd.DataFrame(data=df)\n",
    "    return df"
   ]
  },
  {
   "cell_type": "markdown",
   "metadata": {},
   "source": [
    "# БЕЗ TF.IDF"
   ]
  },
  {
   "cell_type": "code",
   "execution_count": 22,
   "metadata": {},
   "outputs": [
    {
     "data": {
      "application/vnd.jupyter.widget-view+json": {
       "model_id": "688dda24e17547ad902254cfe372602f",
       "version_major": 2,
       "version_minor": 0
      },
      "text/plain": [
       "A Jupyter Widget"
      ]
     },
     "metadata": {},
     "output_type": "display_data"
    },
    {
     "name": "stdout",
     "output_type": "stream",
     "text": [
      "\n"
     ]
    }
   ],
   "source": [
    "id_answer, text_of_paragraph, w2v = save_w2v_base(answers, model_without_pos, tfidf_answers, len_par=2, multiply_tfidf=False)"
   ]
  },
  {
   "cell_type": "code",
   "execution_count": 23,
   "metadata": {
    "collapsed": true
   },
   "outputs": [],
   "source": [
    "df = create_df(['id_answer', 'text_of_paragraph', 'w2v'], [id_answer, text_of_paragraph, w2v])"
   ]
  },
  {
   "cell_type": "markdown",
   "metadata": {},
   "source": [
    "# С TF.IDF"
   ]
  },
  {
   "cell_type": "code",
   "execution_count": 34,
   "metadata": {},
   "outputs": [
    {
     "data": {
      "application/vnd.jupyter.widget-view+json": {
       "model_id": "15d22ecece7448cfb851ef6c3a301eb6",
       "version_major": 2,
       "version_minor": 0
      },
      "text/plain": [
       "A Jupyter Widget"
      ]
     },
     "metadata": {},
     "output_type": "display_data"
    }
   ],
   "source": [
    "id_answer_tfidf, text_of_paragraph_tfidf, w2v_tfidf = save_w2v_base(answers, model_without_pos, tfidf_answers, len_par=2, multiply_tfidf=True)\n",
    "df['w2v_tfidf'] = w2v_tfidf"
   ]
  },
  {
   "cell_type": "markdown",
   "metadata": {},
   "source": [
    "# С POS-tagging"
   ]
  },
  {
   "cell_type": "code",
   "execution_count": 547,
   "metadata": {
    "collapsed": true
   },
   "outputs": [],
   "source": [
    "def get_pos(lemma):\n",
    "    sentences = model_udpipe.tokenize(lemma)\n",
    "    for s in sentences:\n",
    "        model_udpipe.tag(s)\n",
    "        model_udpipe.parse(s)\n",
    "    conllu = model_udpipe.write(sentences, \"conllu\")\n",
    "    conllu = re.sub('# .+?\\n', '', conllu)\n",
    "    pos = re.search('(.+?\\t){3}(.+?)\\t', conllu).group(2)\n",
    "    return pos"
   ]
  },
  {
   "cell_type": "code",
   "execution_count": 549,
   "metadata": {},
   "outputs": [
    {
     "data": {
      "application/vnd.jupyter.widget-view+json": {
       "model_id": "154c04696bc94d99a8f4f5381caf798e",
       "version_major": 2,
       "version_minor": 0
      },
      "text/plain": [
       "A Jupyter Widget"
      ]
     },
     "metadata": {},
     "output_type": "display_data"
    },
    {
     "data": {
      "application/vnd.jupyter.widget-view+json": {
       "model_id": "5e808186b6cb4737b4f40012e91cef96",
       "version_major": 2,
       "version_minor": 0
      },
      "text/plain": [
       "A Jupyter Widget"
      ]
     },
     "metadata": {},
     "output_type": "display_data"
    }
   ],
   "source": [
    "# модель с тегами\n",
    "model_pos = KeyedVectors.load_word2vec_format('/Users/irene/Downloads/IR/tayga_1_2.vec', binary=False)\n",
    "model_udpipe = Model('russian-ud-2.0-170801.udpipe')\n",
    "id_answer_pos, text_of_paragraph_pos, w2v_pos = save_w2v_base(answers, model_pos, tfidf_answers, len_par=2, multiply_tfidf=False, pos=True)\n",
    "df['w2v_pos'] = w2v_pos\n",
    "id_answer_pos_tfidf, text_of_paragraph_pos_tfidf, w2v_pos_tfidf = save_w2v_base(answers, model_pos, tfidf_answers, len_par=2, pos=True)\n",
    "df['w2v_pos_tfidf'] = w2v_pos"
   ]
  },
  {
   "cell_type": "markdown",
   "metadata": {},
   "source": [
    "# train my model"
   ]
  },
  {
   "cell_type": "markdown",
   "metadata": {},
   "source": [
    "https://drive.google.com/file/d/14wqRshysIn0Cs4dDM_WaW4jPTtix1sgD/view?usp=sharing"
   ]
  },
  {
   "cell_type": "code",
   "execution_count": 550,
   "metadata": {},
   "outputs": [
    {
     "data": {
      "application/vnd.jupyter.widget-view+json": {
       "model_id": "2767e624941c4c528fdf1e4157de7f60",
       "version_major": 2,
       "version_minor": 0
      },
      "text/plain": [
       "A Jupyter Widget"
      ]
     },
     "metadata": {},
     "output_type": "display_data"
    }
   ],
   "source": [
    "train_text = [preprocessing(ans_1) for ans_1 in answers]\n",
    "path = get_tmpfile(\"my_word2vec.model\")\n",
    "my_model = Word2Vec(train_text, size=300, window=5, min_count=1, workers=4)\n",
    "my_model.save(\"my_word2vec.model\")\n",
    "my_id_answer, my_text_of_paragraph, my_w2v = save_w2v_base(answers, my_model, tfidf_answers, len_par=2, multiply_tfidf=False)\n",
    "df['my_w2v'] = my_w2v"
   ]
  },
  {
   "cell_type": "markdown",
   "metadata": {
    "collapsed": true
   },
   "source": [
    "# d2v"
   ]
  },
  {
   "cell_type": "code",
   "execution_count": 37,
   "metadata": {
    "collapsed": true
   },
   "outputs": [],
   "source": [
    "def train_doc2vec(data, epochs=100):\n",
    "    tagged_data = [TaggedDocument(words=word_tokenize(_d.lower()), tags=[str(i)]) for i, _d in enumerate(data)]\n",
    "    model = Doc2Vec(vector_size=100, min_count=5, alpha=0.025, \n",
    "                min_alpha=0.025, epochs=epochs, workers=4, dm=1)\n",
    "\n",
    "    model.build_vocab(tagged_data)\n",
    "    model.train(tagged_data, total_examples=model.corpus_count, epochs=model.epochs)\n",
    "    return model"
   ]
  },
  {
   "cell_type": "code",
   "execution_count": 38,
   "metadata": {
    "collapsed": true
   },
   "outputs": [],
   "source": [
    "fname = get_tmpfile(\"model_doc2vec_QA\")\n",
    "#model_doc2vec = train_doc2vec(df['text_of_paragraph'], epochs=1000)\n",
    "#model_doc2vec.save(fname)\n",
    "model_doc2vec = Doc2Vec.load(fname)"
   ]
  },
  {
   "cell_type": "code",
   "execution_count": 39,
   "metadata": {
    "collapsed": true
   },
   "outputs": [],
   "source": [
    "def get_d2v_vectors(paragraph, model_doc2vec, steps=5, alpha=0.1):\n",
    "    \"\"\"Получает вектор параграфа\"\"\"\n",
    "    lemmas_paragraph = preprocessing(paragraph, del_stopwords=False)\n",
    "    model_doc2vec.random.seed(100)\n",
    "    vector = model_doc2vec.infer_vector(lemmas_paragraph, steps=steps, alpha=alpha)\n",
    "    return vector.tolist()\n",
    "\n",
    "def save_d2v_base(paragraphs, model_doc2vec, steps=5, alpha=0.1):\n",
    "    \"\"\"Индексирует всю базу для поиска через doc2vec\"\"\"\n",
    "    vectors_d2v = []\n",
    "    for par in tqdm(paragraphs):\n",
    "        vectors_d2v.append(get_d2v_vectors(par, model_doc2vec, steps=steps, alpha=alpha))\n",
    "    return vectors_d2v"
   ]
  },
  {
   "cell_type": "code",
   "execution_count": 40,
   "metadata": {},
   "outputs": [
    {
     "data": {
      "application/vnd.jupyter.widget-view+json": {
       "model_id": "fc694cde53c54f589d5cc8691ae9e983",
       "version_major": 2,
       "version_minor": 0
      },
      "text/plain": [
       "A Jupyter Widget"
      ]
     },
     "metadata": {},
     "output_type": "display_data"
    }
   ],
   "source": [
    "#df['d2v_simple'] = save_d2v_base(df['text_of_paragraph'], model_doc2vec)\n",
    "df['d2v_hypo'] = save_d2v_base(df['text_of_paragraph'], model_doc2vec, steps=10, alpha=0.025)"
   ]
  },
  {
   "cell_type": "code",
   "execution_count": 41,
   "metadata": {},
   "outputs": [
    {
     "data": {
      "text/html": [
       "<div>\n",
       "<style scoped>\n",
       "    .dataframe tbody tr th:only-of-type {\n",
       "        vertical-align: middle;\n",
       "    }\n",
       "\n",
       "    .dataframe tbody tr th {\n",
       "        vertical-align: top;\n",
       "    }\n",
       "\n",
       "    .dataframe thead th {\n",
       "        text-align: right;\n",
       "    }\n",
       "</style>\n",
       "<table border=\"1\" class=\"dataframe\">\n",
       "  <thead>\n",
       "    <tr style=\"text-align: right;\">\n",
       "      <th></th>\n",
       "      <th>id_answer</th>\n",
       "      <th>text_of_paragraph</th>\n",
       "      <th>w2v</th>\n",
       "      <th>w2v_tfidf</th>\n",
       "      <th>d2v_hypo</th>\n",
       "    </tr>\n",
       "  </thead>\n",
       "  <tbody>\n",
       "    <tr>\n",
       "      <th>0</th>\n",
       "      <td>0</td>\n",
       "      <td>Добрый вечер!Из Вашего вопроса вообще ничего н...</td>\n",
       "      <td>[-0.0037454424891620874, 0.0019313085358589888...</td>\n",
       "      <td>[0.00010870089317904785, -4.5986711484147236e-...</td>\n",
       "      <td>[0.1826891154050827, 1.444961667060852, -0.224...</td>\n",
       "    </tr>\n",
       "    <tr>\n",
       "      <th>1</th>\n",
       "      <td>1</td>\n",
       "      <td>Оксана, Вы вправе не платить налог, если являе...</td>\n",
       "      <td>[0.044678158489987255, -0.002064136316378911, ...</td>\n",
       "      <td>[0.002117195782605753, 0.00015293818622012624,...</td>\n",
       "      <td>[0.8593118190765381, 0.894930899143219, 0.1804...</td>\n",
       "    </tr>\n",
       "    <tr>\n",
       "      <th>2</th>\n",
       "      <td>2</td>\n",
       "      <td>Здравствуйте, Илья! Можно ли подать приложения...</td>\n",
       "      <td>[0.008203479933003202, -0.009832145156673132, ...</td>\n",
       "      <td>[0.00018833383206257192, -0.000303040981331529...</td>\n",
       "      <td>[0.14646922051906586, 1.0657494068145752, 0.38...</td>\n",
       "    </tr>\n",
       "    <tr>\n",
       "      <th>3</th>\n",
       "      <td>2</td>\n",
       "      <td>Лица, участвующие в деле, вправе представлять ...</td>\n",
       "      <td>[0.015275483950972557, -0.012329040095210075, ...</td>\n",
       "      <td>[0.00038809291436336935, -0.000794871943071484...</td>\n",
       "      <td>[-0.3927629888057709, 0.5010011196136475, 0.07...</td>\n",
       "    </tr>\n",
       "    <tr>\n",
       "      <th>4</th>\n",
       "      <td>2</td>\n",
       "      <td>Такие документы выполняются в форме, установле...</td>\n",
       "      <td>[0.014798891730606556, -0.006705345120280981, ...</td>\n",
       "      <td>[0.000794209074229002, -0.00045195137499831617...</td>\n",
       "      <td>[0.43403029441833496, -0.8391685485839844, 1.3...</td>\n",
       "    </tr>\n",
       "  </tbody>\n",
       "</table>\n",
       "</div>"
      ],
      "text/plain": [
       "   id_answer                                  text_of_paragraph  \\\n",
       "0          0  Добрый вечер!Из Вашего вопроса вообще ничего н...   \n",
       "1          1  Оксана, Вы вправе не платить налог, если являе...   \n",
       "2          2  Здравствуйте, Илья! Можно ли подать приложения...   \n",
       "3          2  Лица, участвующие в деле, вправе представлять ...   \n",
       "4          2  Такие документы выполняются в форме, установле...   \n",
       "\n",
       "                                                 w2v  \\\n",
       "0  [-0.0037454424891620874, 0.0019313085358589888...   \n",
       "1  [0.044678158489987255, -0.002064136316378911, ...   \n",
       "2  [0.008203479933003202, -0.009832145156673132, ...   \n",
       "3  [0.015275483950972557, -0.012329040095210075, ...   \n",
       "4  [0.014798891730606556, -0.006705345120280981, ...   \n",
       "\n",
       "                                           w2v_tfidf  \\\n",
       "0  [0.00010870089317904785, -4.5986711484147236e-...   \n",
       "1  [0.002117195782605753, 0.00015293818622012624,...   \n",
       "2  [0.00018833383206257192, -0.000303040981331529...   \n",
       "3  [0.00038809291436336935, -0.000794871943071484...   \n",
       "4  [0.000794209074229002, -0.00045195137499831617...   \n",
       "\n",
       "                                            d2v_hypo  \n",
       "0  [0.1826891154050827, 1.444961667060852, -0.224...  \n",
       "1  [0.8593118190765381, 0.894930899143219, 0.1804...  \n",
       "2  [0.14646922051906586, 1.0657494068145752, 0.38...  \n",
       "3  [-0.3927629888057709, 0.5010011196136475, 0.07...  \n",
       "4  [0.43403029441833496, -0.8391685485839844, 1.3...  "
      ]
     },
     "execution_count": 41,
     "metadata": {},
     "output_type": "execute_result"
    }
   ],
   "source": [
    "df.head()"
   ]
  },
  {
   "cell_type": "code",
   "execution_count": 556,
   "metadata": {
    "collapsed": true
   },
   "outputs": [],
   "source": [
    "df.to_csv('QA_df.csv')"
   ]
  },
  {
   "cell_type": "markdown",
   "metadata": {},
   "source": [
    "https://drive.google.com/file/d/1CHnCTjIXWjAEmGAPW0_TCH47tm2SgASO/view?usp=sharing"
   ]
  },
  {
   "cell_type": "markdown",
   "metadata": {},
   "source": [
    "# w2v + d2v (общие функции для поиска)"
   ]
  },
  {
   "cell_type": "code",
   "execution_count": 42,
   "metadata": {
    "collapsed": true
   },
   "outputs": [],
   "source": [
    "from gensim import matutils\n",
    "import numpy as np \n",
    "\n",
    "def similarity(v1, v2):\n",
    "    v1_norm = matutils.unitvec(np.array(v1))\n",
    "    v2_norm = matutils.unitvec(np.array(v2))\n",
    "    return np.dot(v1_norm, v2_norm)"
   ]
  },
  {
   "cell_type": "code",
   "execution_count": 43,
   "metadata": {
    "collapsed": true
   },
   "outputs": [],
   "source": [
    "def res_v(vectors, names_doc, v_quary):\n",
    "    res = []\n",
    "    for i, vector in enumerate(vectors):\n",
    "        cos_sim = similarity(v_quary, vector)\n",
    "        res.append([names_doc[i], cos_sim, i])\n",
    "    res.sort(key=operator.itemgetter(1), reverse=True)\n",
    "    return res"
   ]
  },
  {
   "cell_type": "code",
   "execution_count": 44,
   "metadata": {
    "collapsed": true
   },
   "outputs": [],
   "source": [
    "def res_without_dupl(res, top=5):\n",
    "    res_without_dupl = set()\n",
    "    inds = []\n",
    "    for ind, r in enumerate(res):\n",
    "        if r[0] in res_without_dupl:\n",
    "            continue\n",
    "        else:\n",
    "            if len(res_without_dupl) == top:\n",
    "                break\n",
    "            res_without_dupl.add(r[0])\n",
    "            inds.append(ind)\n",
    "        ind += 1\n",
    "    return itemgetter(*inds)(res)"
   ]
  },
  {
   "cell_type": "code",
   "execution_count": 560,
   "metadata": {
    "collapsed": true
   },
   "outputs": [],
   "source": [
    "res = [[1, 0.9, 2], [1, 0.8, 1], [2, 0.7, 1], [2, 0.5, 3], [2, 0.5, 2], [3, 0.3, 1], [3, 0.2, 2], [4, 0.2, 1], [5, 0.2, 1], [6, 0.1, 1]]"
   ]
  },
  {
   "cell_type": "code",
   "execution_count": 561,
   "metadata": {},
   "outputs": [
    {
     "data": {
      "text/plain": [
       "[1, 0.9, 2]"
      ]
     },
     "execution_count": 561,
     "metadata": {},
     "output_type": "execute_result"
    }
   ],
   "source": [
    "res_without_dupl(res, top=1)"
   ]
  },
  {
   "cell_type": "code",
   "execution_count": 45,
   "metadata": {
    "collapsed": true
   },
   "outputs": [],
   "source": [
    "def search_w2v(quary, model, vectors_w2v, names_doc, tfidf, ind, multiply_tfidf=True, pos=False, top=5):\n",
    "    v_quary = get_w2v_vectors_paragraph(quary, model, tfidf, ind, multiply_tfidf=multiply_tfidf, pos=pos)\n",
    "    res = res_v(vectors_w2v, names_doc, v_quary)\n",
    "    res = res_without_dupl(res, top=top)\n",
    "    return res\n",
    "\n",
    "def search_d2v(quary, model, vectors_d2v, names_doc, steps=5, alpha=0.1, top=5):\n",
    "    v_quary = get_d2v_vectors(quary, model, steps=steps, alpha=alpha)\n",
    "    res = res_v(vectors_d2v, names_doc, v_quary)\n",
    "    res = res_without_dupl(res, top=top)\n",
    "    return res"
   ]
  },
  {
   "cell_type": "markdown",
   "metadata": {
    "collapsed": true
   },
   "source": [
    "# Обратный индекс"
   ]
  },
  {
   "cell_type": "code",
   "execution_count": 46,
   "metadata": {},
   "outputs": [
    {
     "data": {
      "application/vnd.jupyter.widget-view+json": {
       "model_id": "cbee7ce5de8c4384b22eef692e57cd66",
       "version_major": 2,
       "version_minor": 0
      },
      "text/plain": [
       "A Jupyter Widget"
      ]
     },
     "metadata": {},
     "output_type": "display_data"
    }
   ],
   "source": [
    "lemmatized_texts = []\n",
    "for each_f in tqdm(answers):\n",
    "    lemmatized = ' '.join([x for x in preprocessing(each_f) if x != ' '])\n",
    "    lemmatized_texts.append(lemmatized)"
   ]
  },
  {
   "cell_type": "code",
   "execution_count": 47,
   "metadata": {
    "collapsed": true
   },
   "outputs": [],
   "source": [
    "vec = CountVectorizer()\n",
    "X = vec.fit_transform(lemmatized_texts)\n",
    "df_index = pd.DataFrame(X.toarray(), columns=vec.get_feature_names())\n",
    "words = list(vec.get_feature_names())"
   ]
  },
  {
   "cell_type": "code",
   "execution_count": 48,
   "metadata": {},
   "outputs": [
    {
     "data": {
      "text/html": [
       "<div>\n",
       "<style scoped>\n",
       "    .dataframe tbody tr th:only-of-type {\n",
       "        vertical-align: middle;\n",
       "    }\n",
       "\n",
       "    .dataframe tbody tr th {\n",
       "        vertical-align: top;\n",
       "    }\n",
       "\n",
       "    .dataframe thead th {\n",
       "        text-align: right;\n",
       "    }\n",
       "</style>\n",
       "<table border=\"1\" class=\"dataframe\">\n",
       "  <thead>\n",
       "    <tr style=\"text-align: right;\">\n",
       "      <th></th>\n",
       "      <th>alexandr</th>\n",
       "      <th>azbuka</th>\n",
       "      <th>base</th>\n",
       "      <th>block</th>\n",
       "      <th>buduprav</th>\n",
       "      <th>buffer</th>\n",
       "      <th>cookie</th>\n",
       "      <th>div</th>\n",
       "      <th>docs</th>\n",
       "      <th>dvd</th>\n",
       "      <th>...</th>\n",
       "      <th>январь</th>\n",
       "      <th>январялюдмилая</th>\n",
       "      <th>ярлык</th>\n",
       "      <th>ярослав</th>\n",
       "      <th>ярославский</th>\n",
       "      <th>ясно</th>\n",
       "      <th>ясный</th>\n",
       "      <th>яхта</th>\n",
       "      <th>ячейка</th>\n",
       "      <th>ящик</th>\n",
       "    </tr>\n",
       "  </thead>\n",
       "  <tbody>\n",
       "    <tr>\n",
       "      <th>0</th>\n",
       "      <td>0</td>\n",
       "      <td>0</td>\n",
       "      <td>0</td>\n",
       "      <td>0</td>\n",
       "      <td>0</td>\n",
       "      <td>0</td>\n",
       "      <td>0</td>\n",
       "      <td>0</td>\n",
       "      <td>0</td>\n",
       "      <td>0</td>\n",
       "      <td>...</td>\n",
       "      <td>0</td>\n",
       "      <td>0</td>\n",
       "      <td>0</td>\n",
       "      <td>0</td>\n",
       "      <td>0</td>\n",
       "      <td>1</td>\n",
       "      <td>0</td>\n",
       "      <td>0</td>\n",
       "      <td>0</td>\n",
       "      <td>0</td>\n",
       "    </tr>\n",
       "    <tr>\n",
       "      <th>1</th>\n",
       "      <td>0</td>\n",
       "      <td>0</td>\n",
       "      <td>0</td>\n",
       "      <td>0</td>\n",
       "      <td>0</td>\n",
       "      <td>0</td>\n",
       "      <td>0</td>\n",
       "      <td>0</td>\n",
       "      <td>0</td>\n",
       "      <td>0</td>\n",
       "      <td>...</td>\n",
       "      <td>0</td>\n",
       "      <td>0</td>\n",
       "      <td>0</td>\n",
       "      <td>0</td>\n",
       "      <td>0</td>\n",
       "      <td>0</td>\n",
       "      <td>0</td>\n",
       "      <td>0</td>\n",
       "      <td>0</td>\n",
       "      <td>0</td>\n",
       "    </tr>\n",
       "    <tr>\n",
       "      <th>2</th>\n",
       "      <td>0</td>\n",
       "      <td>0</td>\n",
       "      <td>0</td>\n",
       "      <td>0</td>\n",
       "      <td>0</td>\n",
       "      <td>0</td>\n",
       "      <td>0</td>\n",
       "      <td>0</td>\n",
       "      <td>0</td>\n",
       "      <td>1</td>\n",
       "      <td>...</td>\n",
       "      <td>0</td>\n",
       "      <td>0</td>\n",
       "      <td>0</td>\n",
       "      <td>0</td>\n",
       "      <td>0</td>\n",
       "      <td>0</td>\n",
       "      <td>0</td>\n",
       "      <td>0</td>\n",
       "      <td>0</td>\n",
       "      <td>0</td>\n",
       "    </tr>\n",
       "    <tr>\n",
       "      <th>3</th>\n",
       "      <td>0</td>\n",
       "      <td>0</td>\n",
       "      <td>0</td>\n",
       "      <td>0</td>\n",
       "      <td>0</td>\n",
       "      <td>0</td>\n",
       "      <td>0</td>\n",
       "      <td>0</td>\n",
       "      <td>0</td>\n",
       "      <td>0</td>\n",
       "      <td>...</td>\n",
       "      <td>0</td>\n",
       "      <td>0</td>\n",
       "      <td>0</td>\n",
       "      <td>0</td>\n",
       "      <td>0</td>\n",
       "      <td>0</td>\n",
       "      <td>0</td>\n",
       "      <td>0</td>\n",
       "      <td>0</td>\n",
       "      <td>0</td>\n",
       "    </tr>\n",
       "    <tr>\n",
       "      <th>4</th>\n",
       "      <td>0</td>\n",
       "      <td>0</td>\n",
       "      <td>0</td>\n",
       "      <td>0</td>\n",
       "      <td>0</td>\n",
       "      <td>0</td>\n",
       "      <td>0</td>\n",
       "      <td>0</td>\n",
       "      <td>0</td>\n",
       "      <td>0</td>\n",
       "      <td>...</td>\n",
       "      <td>0</td>\n",
       "      <td>0</td>\n",
       "      <td>0</td>\n",
       "      <td>0</td>\n",
       "      <td>0</td>\n",
       "      <td>0</td>\n",
       "      <td>0</td>\n",
       "      <td>0</td>\n",
       "      <td>0</td>\n",
       "      <td>0</td>\n",
       "    </tr>\n",
       "  </tbody>\n",
       "</table>\n",
       "<p>5 rows × 7145 columns</p>\n",
       "</div>"
      ],
      "text/plain": [
       "   alexandr  azbuka  base  block  buduprav  buffer  cookie  div  docs  dvd  \\\n",
       "0         0       0     0      0         0       0       0    0     0    0   \n",
       "1         0       0     0      0         0       0       0    0     0    0   \n",
       "2         0       0     0      0         0       0       0    0     0    1   \n",
       "3         0       0     0      0         0       0       0    0     0    0   \n",
       "4         0       0     0      0         0       0       0    0     0    0   \n",
       "\n",
       "   ...   январь  январялюдмилая  ярлык  ярослав  ярославский  ясно  ясный  \\\n",
       "0  ...        0               0      0        0            0     1      0   \n",
       "1  ...        0               0      0        0            0     0      0   \n",
       "2  ...        0               0      0        0            0     0      0   \n",
       "3  ...        0               0      0        0            0     0      0   \n",
       "4  ...        0               0      0        0            0     0      0   \n",
       "\n",
       "   яхта  ячейка  ящик  \n",
       "0     0       0     0  \n",
       "1     0       0     0  \n",
       "2     0       0     0  \n",
       "3     0       0     0  \n",
       "4     0       0     0  \n",
       "\n",
       "[5 rows x 7145 columns]"
      ]
     },
     "execution_count": 48,
     "metadata": {},
     "output_type": "execute_result"
    }
   ],
   "source": [
    "df_index.head()"
   ]
  },
  {
   "cell_type": "code",
   "execution_count": 49,
   "metadata": {},
   "outputs": [
    {
     "data": {
      "text/plain": [
       "(1384, 7145)"
      ]
     },
     "execution_count": 49,
     "metadata": {},
     "output_type": "execute_result"
    }
   ],
   "source": [
    "df_index.shape"
   ]
  },
  {
   "cell_type": "code",
   "execution_count": 50,
   "metadata": {
    "collapsed": true
   },
   "outputs": [],
   "source": [
    "def inverted_index(df) -> dict:\n",
    "    \"\"\"\n",
    "    Create inverted index by input doc collection\n",
    "    :return: inverted index\n",
    "    \"\"\"\n",
    "    files = []\n",
    "    for word in df:\n",
    "        sub = []\n",
    "        docs = np.where(df[word] > 0)[0]\n",
    "        for f in docs:\n",
    "            dl = len(lemmatized_texts[f].split())\n",
    "            fr = round(df[word][f]/dl, 4)\n",
    "            sub.append([f, dl, fr])\n",
    "        files.append(sub)\n",
    "    index = pd.DataFrame(data={'Слово': words, 'Информация': files})\n",
    "    return index"
   ]
  },
  {
   "cell_type": "code",
   "execution_count": 51,
   "metadata": {
    "collapsed": true
   },
   "outputs": [],
   "source": [
    "index = inverted_index(df_index)"
   ]
  },
  {
   "cell_type": "code",
   "execution_count": 52,
   "metadata": {},
   "outputs": [
    {
     "data": {
      "text/html": [
       "<div>\n",
       "<style scoped>\n",
       "    .dataframe tbody tr th:only-of-type {\n",
       "        vertical-align: middle;\n",
       "    }\n",
       "\n",
       "    .dataframe tbody tr th {\n",
       "        vertical-align: top;\n",
       "    }\n",
       "\n",
       "    .dataframe thead th {\n",
       "        text-align: right;\n",
       "    }\n",
       "</style>\n",
       "<table border=\"1\" class=\"dataframe\">\n",
       "  <thead>\n",
       "    <tr style=\"text-align: right;\">\n",
       "      <th></th>\n",
       "      <th>Информация</th>\n",
       "      <th>Слово</th>\n",
       "    </tr>\n",
       "  </thead>\n",
       "  <tbody>\n",
       "    <tr>\n",
       "      <th>0</th>\n",
       "      <td>[[1317, 132, 0.0076]]</td>\n",
       "      <td>alexandr</td>\n",
       "    </tr>\n",
       "    <tr>\n",
       "      <th>1</th>\n",
       "      <td>[[185, 386, 0.0026]]</td>\n",
       "      <td>azbuka</td>\n",
       "    </tr>\n",
       "    <tr>\n",
       "      <th>2</th>\n",
       "      <td>[[749, 300, 0.0033]]</td>\n",
       "      <td>base</td>\n",
       "    </tr>\n",
       "    <tr>\n",
       "      <th>3</th>\n",
       "      <td>[[749, 300, 0.0033]]</td>\n",
       "      <td>block</td>\n",
       "    </tr>\n",
       "    <tr>\n",
       "      <th>4</th>\n",
       "      <td>[[614, 430, 0.0047]]</td>\n",
       "      <td>buduprav</td>\n",
       "    </tr>\n",
       "  </tbody>\n",
       "</table>\n",
       "</div>"
      ],
      "text/plain": [
       "              Информация     Слово\n",
       "0  [[1317, 132, 0.0076]]  alexandr\n",
       "1   [[185, 386, 0.0026]]    azbuka\n",
       "2   [[749, 300, 0.0033]]      base\n",
       "3   [[749, 300, 0.0033]]     block\n",
       "4   [[614, 430, 0.0047]]  buduprav"
      ]
     },
     "execution_count": 52,
     "metadata": {},
     "output_type": "execute_result"
    }
   ],
   "source": [
    "index.head()"
   ]
  },
  {
   "cell_type": "code",
   "execution_count": 53,
   "metadata": {
    "collapsed": true
   },
   "outputs": [],
   "source": [
    "from math import log\n",
    "\n",
    "k1 = 2.0\n",
    "b = 0.75\n",
    "avgdl = round(sum([len(q.split(' ')) for q in lemmatized_texts])/len(lemmatized_texts))#средняя длина док-ов в коллекции\n",
    "N = len(lemmatized_texts)\n",
    "\n",
    "def score_BM25(qf, dl, avgdl, k1, b, N, n) -> float:\n",
    "    \"\"\"\n",
    "    Compute similarity score between search query and documents from collection\n",
    "    :return: score\n",
    "    \"\"\"\n",
    "    score = math.log((N-n+0.5)/(n+0.5)) * (k1+1)*qf/(qf+k1*(1-b+b*(dl/avgdl)))\n",
    "    return score"
   ]
  },
  {
   "cell_type": "code",
   "execution_count": 54,
   "metadata": {
    "collapsed": true
   },
   "outputs": [],
   "source": [
    "def compute_sim(lemma, inverted_index) -> float:\n",
    "    \"\"\"\n",
    "    Compute similarity score between word in search query and all document  from collection\n",
    "    :return: score\n",
    "    \"\"\"\n",
    "    doc_list = list(inverted_index.loc[inverted_index['Слово'] == lemma]['Информация'])[0]\n",
    "    #print(len(doc_list))\n",
    "    relevance_dict = {}\n",
    "    for doc in doc_list:\n",
    "        relevance_dict[doc[0]] = score_BM25(doc[2], doc[1], avgdl, k1, b, N, len(doc_list))\n",
    "    return relevance_dict"
   ]
  },
  {
   "cell_type": "code",
   "execution_count": 55,
   "metadata": {
    "collapsed": true
   },
   "outputs": [],
   "source": [
    "def get_search_result(query, top=5) -> list:\n",
    "    \"\"\"\n",
    "    Compute sim score between search query and all documents in collection\n",
    "    Collect as pair (doc_id, score)\n",
    "    :param query: input text\n",
    "    :return: list of lists with (doc_id, score)\n",
    "    \"\"\"\n",
    "    query = [que for que in preprocessing(query) if que in words]\n",
    "    #print(query)\n",
    "    res = {}\n",
    "    for word in query:\n",
    "        relevance_dict = compute_sim(word, index)\n",
    "        res = {k: res.get(k, 0) + relevance_dict.get(k, 0) for k in set(res) | set(relevance_dict)}\n",
    "    return sorted(res.items(), key=operator.itemgetter(1), reverse=True)[0:top]"
   ]
  },
  {
   "cell_type": "code",
   "execution_count": 56,
   "metadata": {},
   "outputs": [
    {
     "data": {
      "text/plain": [
       "353"
      ]
     },
     "execution_count": 56,
     "metadata": {},
     "output_type": "execute_result"
    }
   ],
   "source": [
    "len(get_search_result('суд', top=1384))"
   ]
  },
  {
   "cell_type": "markdown",
   "metadata": {},
   "source": [
    "# Blending"
   ]
  },
  {
   "cell_type": "markdown",
   "metadata": {},
   "source": [
    "## * w2v + d2v"
   ]
  },
  {
   "cell_type": "code",
   "execution_count": 57,
   "metadata": {
    "collapsed": true
   },
   "outputs": [],
   "source": [
    "def blend_d2v_w2v(res_w2v, res_d2v, v, top=5):\n",
    "    res_w2v = sorted(res_w2v, key = lambda x: (x[0], x[2]))\n",
    "    res_d2v = sorted(res_d2v, key = lambda x: (x[0], x[2]))\n",
    "    ranges = []\n",
    "    for i, res3 in enumerate(res_w2v):\n",
    "        new_range = res3[1] * v + res_d2v[i][1] * (1-v)\n",
    "        ranges.append((res3[0], new_range))\n",
    "    ranges = sorted(ranges, key = lambda x: (x[1]), reverse=True)\n",
    "    ranges = res_without_dupl(ranges, top=top)\n",
    "    return ranges"
   ]
  },
  {
   "cell_type": "code",
   "execution_count": 575,
   "metadata": {
    "collapsed": true
   },
   "outputs": [],
   "source": [
    "res_w2v = [[2, 0.3 , 1], [2, 0.2, 2], [2, 0.1, 3], [1, 0.1, 1], [1, 0.1, 2]]\n",
    "res_d2v = [[2, 0.8, 2], [2, 0.7, 1], [1, 0.5, 1], [2, 0.2, 3], [1, 0.1, 2]]"
   ]
  },
  {
   "cell_type": "code",
   "execution_count": 576,
   "metadata": {},
   "outputs": [
    {
     "data": {
      "text/plain": [
       "[(2, 0.37999999999999995),\n",
       " (2, 0.32),\n",
       " (1, 0.18),\n",
       " (2, 0.12000000000000001),\n",
       " (1, 0.1)]"
      ]
     },
     "execution_count": 576,
     "metadata": {},
     "output_type": "execute_result"
    }
   ],
   "source": [
    "blend_d2v_w2v(res_w2v, res_d2v, 0.8, top=5)"
   ]
  },
  {
   "cell_type": "markdown",
   "metadata": {},
   "source": [
    "## * w2v + inverted index"
   ]
  },
  {
   "cell_type": "code",
   "execution_count": 58,
   "metadata": {
    "collapsed": true
   },
   "outputs": [],
   "source": [
    "def norm(vector):\n",
    "    a = np.asarray(vector)\n",
    "    return np.interp(a, (a.min(), a.max()), (-1, +1))"
   ]
  },
  {
   "cell_type": "code",
   "execution_count": 59,
   "metadata": {
    "collapsed": true
   },
   "outputs": [],
   "source": [
    "def f(x):\n",
    "    return x[1] / x[0]"
   ]
  },
  {
   "cell_type": "code",
   "execution_count": 60,
   "metadata": {
    "collapsed": true
   },
   "outputs": [],
   "source": [
    "def mean_w2v(res_w2v):\n",
    "    df = pd.DataFrame(list(res_w2v))\n",
    "    df = df.groupby(0)[1].agg([\"count\", \"sum\", \"mean\"])\n",
    "    m = df['mean']\n",
    "    return [(i, el) for i, el in enumerate(m)]"
   ]
  },
  {
   "cell_type": "code",
   "execution_count": 61,
   "metadata": {
    "collapsed": true
   },
   "outputs": [],
   "source": [
    "res_w2v = [[2, 0.5, 3], [2, 0.5, 2], [3, 0.3, 1], [3, 0.2, 2], [4, 0.2, 1], [5, 0.2, 1], [6, 0.1, 1], [2, 0.7, 1]]"
   ]
  },
  {
   "cell_type": "code",
   "execution_count": 581,
   "metadata": {},
   "outputs": [
    {
     "data": {
      "text/plain": [
       "[(0, 0.5666666666666667), (1, 0.25), (2, 0.2), (3, 0.2), (4, 0.1)]"
      ]
     },
     "execution_count": 581,
     "metadata": {},
     "output_type": "execute_result"
    }
   ],
   "source": [
    "mean_w2v(res_w2v)"
   ]
  },
  {
   "cell_type": "code",
   "execution_count": 62,
   "metadata": {
    "collapsed": true
   },
   "outputs": [],
   "source": [
    "def blend_w2v_index(res_w2v, res_index, v, top=5):\n",
    "    res_w2v = mean_w2v(res_w2v)\n",
    "    res_w2v = sorted(res_w2v, key = lambda x: (x[0]))\n",
    "    res_index = sorted(res_index, key = lambda x: (x[0]))\n",
    "    files_ind = [r[0] for r in res_index]\n",
    "    res_w2v = np.asarray(res_w2v)[files_ind]\n",
    "    res_w2v_norm = [(i, j) for i, j in enumerate(norm([l[1] for l in res_w2v]))]\n",
    "    res_index_norm = [(i, j) for i, j in enumerate(norm([d[1] for d in res_index]))]\n",
    "    ranges = []\n",
    "    for i, res3 in enumerate(res_w2v_norm):\n",
    "        new_range = res3[1] * v + res_index_norm[i][1] * (1-v)\n",
    "        ranges.append((res3[0], new_range))\n",
    "    return sorted(ranges, key = lambda x: (x[1]), reverse=True)[0:top]"
   ]
  },
  {
   "cell_type": "code",
   "execution_count": 583,
   "metadata": {
    "collapsed": true
   },
   "outputs": [],
   "source": [
    "res_w2v = [[0, 0.5, 3], [0, 0.5, 2], [1, 0.3, 1], [1, 0.2, 2], [2, 0.2, 1], [3, 0.2, 1], [4, 0.1, 1], [0, 0.1, 1], [54, 0.1, 1]]\n",
    "res_index = [(1, 65), (0, 6), (2, 5), (4, 2), (3, 3)]"
   ]
  },
  {
   "cell_type": "code",
   "execution_count": 584,
   "metadata": {},
   "outputs": [
    {
     "data": {
      "text/plain": [
       "[(1, 0.8347222222222221),\n",
       " (0, -0.5192239858906526),\n",
       " (2, -0.7810846560846562),\n",
       " (3, -0.8325837742504409),\n",
       " (4, -1.0)]"
      ]
     },
     "execution_count": 584,
     "metadata": {},
     "output_type": "execute_result"
    }
   ],
   "source": [
    "blend_w2v_index(res_w2v, res_index, v, top=5)"
   ]
  },
  {
   "cell_type": "markdown",
   "metadata": {},
   "source": [
    "# Расчет точности"
   ]
  },
  {
   "cell_type": "code",
   "execution_count": 63,
   "metadata": {
    "collapsed": true
   },
   "outputs": [],
   "source": [
    "def accuracy_index(questions, top=5):\n",
    "    true = 0\n",
    "    for i, q in tqdm(enumerate(questions)):\n",
    "        top5 = [res[0] for res in get_search_result(q, top=top)]\n",
    "        if i in top5:\n",
    "            true += 1\n",
    "    ACCURACY = true / len(questions)\n",
    "    return ACCURACY"
   ]
  },
  {
   "cell_type": "code",
   "execution_count": 64,
   "metadata": {
    "collapsed": true
   },
   "outputs": [],
   "source": [
    "def accuracy_w2v(questions, tfidf_questions, w2v, multiply_tfidf=True, pos=False, top=5):\n",
    "    true = 0\n",
    "    for i, q in tqdm(enumerate(questions)):\n",
    "        top5 = [res[0] for res in search_w2v(q, model_without_pos, w2v, df['id_answer'], tfidf_questions, i, multiply_tfidf=multiply_tfidf, pos=pos, top=top)]\n",
    "        if i in top5:\n",
    "            true += 1\n",
    "    ACCURACY = true / len(questions)\n",
    "    return ACCURACY"
   ]
  },
  {
   "cell_type": "code",
   "execution_count": 65,
   "metadata": {
    "collapsed": true
   },
   "outputs": [],
   "source": [
    "def accuracy_d2v(questions, model, d2v, steps=5, alpha=0.1, top=5):\n",
    "    true = 0\n",
    "    for i, q in tqdm(enumerate(questions)):\n",
    "        top5 = [res[0] for res in search_d2v(q, model_doc2vec, d2v, df['id_answer'], steps=steps, alpha=alpha, top=top)]\n",
    "        if i in top5:\n",
    "            true += 1\n",
    "    ACCURACY = true / len(questions)\n",
    "    return ACCURACY"
   ]
  },
  {
   "cell_type": "markdown",
   "metadata": {},
   "source": [
    "### Обратный индекс"
   ]
  },
  {
   "cell_type": "code",
   "execution_count": 588,
   "metadata": {},
   "outputs": [
    {
     "data": {
      "application/vnd.jupyter.widget-view+json": {
       "model_id": "9f2fbeab6dd64288ab256aa9151caeea",
       "version_major": 2,
       "version_minor": 0
      },
      "text/plain": [
       "A Jupyter Widget"
      ]
     },
     "metadata": {},
     "output_type": "display_data"
    },
    {
     "data": {
      "application/vnd.jupyter.widget-view+json": {
       "model_id": "24e60e7a51e445ec9f1c2af2e3994652",
       "version_major": 2,
       "version_minor": 0
      },
      "text/plain": [
       "A Jupyter Widget"
      ]
     },
     "metadata": {},
     "output_type": "display_data"
    }
   ],
   "source": [
    "acc_5_ind = accuracy_index(questions)\n",
    "acc_10_ind = accuracy_index(questions, top=10)"
   ]
  },
  {
   "cell_type": "code",
   "execution_count": 589,
   "metadata": {},
   "outputs": [
    {
     "name": "stdout",
     "output_type": "stream",
     "text": [
      "Точность метода \"обратный индекс\" на top-5: 0.30852601156069365\n",
      "Точность метода \"обратный индекс\" на top-10: 0.3916184971098266\n"
     ]
    }
   ],
   "source": [
    "print('Точность метода \"обратный индекс\" на top-5:', acc_5_ind)\n",
    "print('Точность метода \"обратный индекс\" на top-10:', acc_10_ind)"
   ]
  },
  {
   "cell_type": "markdown",
   "metadata": {},
   "source": [
    "### w2v"
   ]
  },
  {
   "cell_type": "code",
   "execution_count": 591,
   "metadata": {
    "collapsed": true
   },
   "outputs": [],
   "source": [
    "#acc_5_w2v = accuracy_w2v(questions, tfidf_questions, df['w2v'], multiply_tfidf=False, pos=False)\n",
    "#acc_10_w2v = accuracy_w2v(questions, tfidf_questions, df['w2v'], multiply_tfidf=False, pos=False, top=10)"
   ]
  },
  {
   "cell_type": "code",
   "execution_count": 593,
   "metadata": {
    "collapsed": true
   },
   "outputs": [],
   "source": [
    "#my_acc_5_w2v = accuracy_w2v(questions, tfidf_questions, df['my_w2v'], multiply_tfidf=False, pos=False)\n",
    "#my_acc_10_w2v = accuracy_w2v(questions, tfidf_questions, df['my_w2v'], multiply_tfidf=False, pos=False, top=10)\n",
    "#acc_5_w2v_pos = accuracy_w2v(questions, tfidf_questions, df['w2v_pos'], multiply_tfidf=False, pos=True)\n",
    "#acc_10_w2v_pos = accuracy_w2v(questions, tfidf_questions, df['w2v_pos'], multiply_tfidf=False, pos=True, top=10)"
   ]
  },
  {
   "cell_type": "code",
   "execution_count": 643,
   "metadata": {},
   "outputs": [
    {
     "data": {
      "application/vnd.jupyter.widget-view+json": {
       "model_id": "2d125785ffa24a76a3fabd72f4675606",
       "version_major": 2,
       "version_minor": 0
      },
      "text/plain": [
       "A Jupyter Widget"
      ]
     },
     "metadata": {},
     "output_type": "display_data"
    },
    {
     "data": {
      "application/vnd.jupyter.widget-view+json": {
       "model_id": "63518ca4ab4040aeaf8baa7ac174dee1",
       "version_major": 2,
       "version_minor": 0
      },
      "text/plain": [
       "A Jupyter Widget"
      ]
     },
     "metadata": {},
     "output_type": "display_data"
    },
    {
     "data": {
      "application/vnd.jupyter.widget-view+json": {
       "model_id": "d645e82392764788b3d95f048bc7fde0",
       "version_major": 2,
       "version_minor": 0
      },
      "text/plain": [
       "A Jupyter Widget"
      ]
     },
     "metadata": {},
     "output_type": "display_data"
    },
    {
     "data": {
      "application/vnd.jupyter.widget-view+json": {
       "model_id": "aef586bc16514367897583cb276cc569",
       "version_major": 2,
       "version_minor": 0
      },
      "text/plain": [
       "A Jupyter Widget"
      ]
     },
     "metadata": {},
     "output_type": "display_data"
    }
   ],
   "source": [
    "acc_5_w2v_tfidf = accuracy_w2v(questions, tfidf_questions, df['w2v_tfidf'], multiply_tfidf=True, pos=False)\n",
    "acc_10_w2v_tfidf = accuracy_w2v(questions, tfidf_questions, df['w2v_tfidf'], multiply_tfidf=True, pos=False, top=10)\n",
    "acc_5_w2v_pos_tfidf = accuracy_w2v(questions, tfidf_questions, df['w2v_pos_tfidf'], multiply_tfidf=True, pos=True)\n",
    "acc_10_w2v_pos_tfidf = accuracy_w2v(questions, tfidf_questions, df['w2v_pos_tfidf'], multiply_tfidf=True, pos=True, top=10)"
   ]
  },
  {
   "cell_type": "code",
   "execution_count": 644,
   "metadata": {},
   "outputs": [
    {
     "name": "stdout",
     "output_type": "stream",
     "text": [
      "Точность метода \"w2v\" на top-5: 0.282514450867052\n",
      "Точность метода \"w2v\" на top-10: 0.282514450867052\n",
      "Точность метода \"my w2v\" на top-5: 0.002890173410404624\n",
      "Точность метода \"my w2v\" на top-10: 0.007947976878612716\n",
      "Точность метода \"w2v+pos\" на top-5: 0.002890173410404624\n",
      "Точность метода \"w2v+pos\" на top-10: 0.002890173410404624\n",
      "Точность метода \"w2v+tfidf\" на top-5: 0.3208092485549133\n",
      "Точность метода \"w2v+tfidf\" на top-10: 0.3208092485549133\n",
      "Точность метода \"w2v+pos+tfidf\" на top-5: 0.0036127167630057803\n",
      "Точность метода \"w2v+pos+tfidf\" на top-10: 0.0036127167630057803\n"
     ]
    }
   ],
   "source": [
    "print('Точность метода \"w2v\" на top-5:', acc_5_w2v)\n",
    "print('Точность метода \"w2v\" на top-10:', acc_5_w2v)\n",
    "print('Точность метода \"my w2v\" на top-5:', my_acc_5_w2v)\n",
    "print('Точность метода \"my w2v\" на top-10:', my_acc_10_w2v)\n",
    "print('Точность метода \"w2v+pos\" на top-5:', acc_5_w2v_pos)\n",
    "print('Точность метода \"w2v+pos\" на top-10:', acc_5_w2v_pos)\n",
    "print('Точность метода \"w2v+tfidf\" на top-5:', acc_5_w2v_tfidf)\n",
    "print('Точность метода \"w2v+tfidf\" на top-10:', acc_5_w2v_tfidf)\n",
    "print('Точность метода \"w2v+pos+tfidf\" на top-5:', acc_5_w2v_pos_tfidf)\n",
    "print('Точность метода \"w2v+pos+tfidf\" на top-10:', acc_5_w2v_pos_tfidf)"
   ]
  },
  {
   "cell_type": "markdown",
   "metadata": {},
   "source": [
    "### Лучший метод - \"w2v+tfidf\""
   ]
  },
  {
   "cell_type": "markdown",
   "metadata": {},
   "source": [
    "### d2v"
   ]
  },
  {
   "cell_type": "code",
   "execution_count": 645,
   "metadata": {},
   "outputs": [
    {
     "data": {
      "application/vnd.jupyter.widget-view+json": {
       "model_id": "fe8ef6d108ef4bf78b968a8ff75e2599",
       "version_major": 2,
       "version_minor": 0
      },
      "text/plain": [
       "A Jupyter Widget"
      ]
     },
     "metadata": {},
     "output_type": "display_data"
    },
    {
     "data": {
      "application/vnd.jupyter.widget-view+json": {
       "model_id": "33a5cf2d59504c069911332d732ae613",
       "version_major": 2,
       "version_minor": 0
      },
      "text/plain": [
       "A Jupyter Widget"
      ]
     },
     "metadata": {},
     "output_type": "display_data"
    },
    {
     "data": {
      "application/vnd.jupyter.widget-view+json": {
       "model_id": "920e99cffc2841829ad7afaef61d543d",
       "version_major": 2,
       "version_minor": 0
      },
      "text/plain": [
       "A Jupyter Widget"
      ]
     },
     "metadata": {},
     "output_type": "display_data"
    },
    {
     "data": {
      "application/vnd.jupyter.widget-view+json": {
       "model_id": "d777f3a5ab4640c39c956e1b72c3173d",
       "version_major": 2,
       "version_minor": 0
      },
      "text/plain": [
       "A Jupyter Widget"
      ]
     },
     "metadata": {},
     "output_type": "display_data"
    }
   ],
   "source": [
    "acc_5_d2v = accuracy_d2v(questions, model_doc2vec, df['d2v_simple'])\n",
    "acc_10_d2v = accuracy_d2v(questions, model_doc2vec, df['d2v_simple'], top=10)\n",
    "acc_5_d2v_hypo = accuracy_d2v(questions, model_doc2vec, df['d2v_hypo'], steps=10, alpha=0.025)\n",
    "acc_10_d2v_hypo = accuracy_d2v(questions, model_doc2vec, df['d2v_hypo'], steps=10, alpha=0.025, top=10)"
   ]
  },
  {
   "cell_type": "code",
   "execution_count": 646,
   "metadata": {},
   "outputs": [
    {
     "name": "stdout",
     "output_type": "stream",
     "text": [
      "Точность метода \"d2v\" на top-5: 0.13945086705202311\n",
      "Точность метода \"d2v\" на top-10: 0.1611271676300578\n",
      "Точность метода \"d2v+гиперпараметры\" на top-5: 0.16329479768786126\n",
      "Точность метода \"d2v+гиперпараметры\" на top-10: 0.19291907514450868\n"
     ]
    }
   ],
   "source": [
    "print('Точность метода \"d2v\" на top-5:', acc_5_d2v)\n",
    "print('Точность метода \"d2v\" на top-10:', acc_10_d2v)\n",
    "print('Точность метода \"d2v+гиперпараметры\" на top-5:', acc_5_d2v_hypo)\n",
    "print('Точность метода \"d2v+гиперпараметры\" на top-10:', acc_10_d2v_hypo)"
   ]
  },
  {
   "cell_type": "markdown",
   "metadata": {},
   "source": [
    "### Лучший метод - \"d2v+гиперпараметры\""
   ]
  },
  {
   "cell_type": "markdown",
   "metadata": {},
   "source": [
    "### Возьмем лучшие модели w2v и d2v"
   ]
  },
  {
   "cell_type": "code",
   "execution_count": 66,
   "metadata": {
    "collapsed": true
   },
   "outputs": [],
   "source": [
    "def accuracy_blending(v, questions, tfidf_questions, w2v, d2v, multiply_tfidf=True, pos=False, top=1384, steps=5, alpha=0.1):\n",
    "    true = 0\n",
    "    for i, q in enumerate(tqdm(questions)):\n",
    "        top_w2v = [(res1[0], res1[1], res1[2]) for res1 in search_w2v(q, model_without_pos, w2v, df['id_answer'], tfidf_questions, i, multiply_tfidf=multiply_tfidf, pos=pos, top=len(df['id_answer']))]\n",
    "        top_d2v = [(res2[0], res2[1], res2[2]) for res2 in search_d2v(q, model_doc2vec, d2v, df['id_answer'], steps=steps, alpha=alpha, top=len(df['id_answer']))]\n",
    "        #print(top_w2v)\n",
    "        top = [res3[0] for res3 in blend_d2v_w2v(top_w2v, top_d2v, v, top=5)]\n",
    "        if i in top:\n",
    "            true += 1\n",
    "    ACCURACY = true / len(questions)\n",
    "    return ACCURACY"
   ]
  },
  {
   "cell_type": "code",
   "execution_count": 69,
   "metadata": {},
   "outputs": [
    {
     "data": {
      "application/vnd.jupyter.widget-view+json": {
       "model_id": "907c55b6a58d4b1cb967298cf2dca4b2",
       "version_major": 2,
       "version_minor": 0
      },
      "text/plain": [
       "A Jupyter Widget"
      ]
     },
     "metadata": {},
     "output_type": "display_data"
    },
    {
     "name": "stdout",
     "output_type": "stream",
     "text": [
      "Точность метода \"d2v+w2v\" на top-5 с весами 0.1 и 0.9 : 0.17196531791907516\n"
     ]
    },
    {
     "data": {
      "application/vnd.jupyter.widget-view+json": {
       "model_id": "380f015b4bf04999bd1acedefa8d84c8",
       "version_major": 2,
       "version_minor": 0
      },
      "text/plain": [
       "A Jupyter Widget"
      ]
     },
     "metadata": {},
     "output_type": "display_data"
    },
    {
     "name": "stdout",
     "output_type": "stream",
     "text": [
      "Точность метода \"d2v+w2v\" на top-5 с весами 0.3 и 0.7 : 0.22326589595375723\n"
     ]
    },
    {
     "data": {
      "application/vnd.jupyter.widget-view+json": {
       "model_id": "10e674f92d1a4005ba093acec22a7c05",
       "version_major": 2,
       "version_minor": 0
      },
      "text/plain": [
       "A Jupyter Widget"
      ]
     },
     "metadata": {},
     "output_type": "display_data"
    },
    {
     "name": "stdout",
     "output_type": "stream",
     "text": [
      "Точность метода \"d2v+w2v\" на top-5 с весами 0.5 и 0.5 : 0.27890173410404623\n"
     ]
    },
    {
     "data": {
      "application/vnd.jupyter.widget-view+json": {
       "model_id": "d8f601d18c1644f4804abd6a40125b11",
       "version_major": 2,
       "version_minor": 0
      },
      "text/plain": [
       "A Jupyter Widget"
      ]
     },
     "metadata": {},
     "output_type": "display_data"
    },
    {
     "name": "stdout",
     "output_type": "stream",
     "text": [
      "Точность метода \"d2v+w2v\" на top-5 с весами 0.7 и 0.3 : 0.31141618497109824\n"
     ]
    },
    {
     "data": {
      "application/vnd.jupyter.widget-view+json": {
       "model_id": "097ca36f273845edbf87ea15674e8e9d",
       "version_major": 2,
       "version_minor": 0
      },
      "text/plain": [
       "A Jupyter Widget"
      ]
     },
     "metadata": {},
     "output_type": "display_data"
    },
    {
     "name": "stdout",
     "output_type": "stream",
     "text": [
      "Точность метода \"d2v+w2v\" на top-5 с весами 0.9 и 0.1 : 0.3208092485549133\n"
     ]
    }
   ],
   "source": [
    "for v in np.linspace(0.1, 0.9, 5):\n",
    "    acc_blend = accuracy_blending(v, questions, tfidf_questions, df['w2v_tfidf'], df['d2v_hypo'], multiply_tfidf=True, pos=False, top=5, steps=5, alpha=0.1)\n",
    "    print('Точность метода \"d2v+w2v\" на top-5 с весами', str(round(v, 1)), 'и', str(round(1-v, 1)), ':', acc_blend)"
   ]
  },
  {
   "cell_type": "markdown",
   "metadata": {},
   "source": [
    "### index + w2v"
   ]
  },
  {
   "cell_type": "code",
   "execution_count": 72,
   "metadata": {
    "collapsed": true
   },
   "outputs": [],
   "source": [
    "def accuracy_ind_w2v(v, questions, tfidf_questions, w2v, multiply_tfidf=True, pos=False, top=5):\n",
    "    true = 0\n",
    "    for i, q in enumerate(tqdm(questions)):\n",
    "        top_w2v = [(res1[0], res1[1], res1[2]) for res1 in search_w2v(q, model_without_pos, w2v, df['id_answer'], tfidf_questions, i, multiply_tfidf=multiply_tfidf, pos=pos, top=len(df['id_answer']))]\n",
    "        top_ind = [(res[0], res[1]) for res in get_search_result(q, top=1384)]\n",
    "        top = [res3[0] for res3 in blend_w2v_index(top_w2v, top_ind, v, top=5)]\n",
    "        if i in top:\n",
    "            true += 1\n",
    "    ACCURACY = true / len(questions)\n",
    "    return ACCURACY"
   ]
  },
  {
   "cell_type": "code",
   "execution_count": 73,
   "metadata": {},
   "outputs": [
    {
     "data": {
      "application/vnd.jupyter.widget-view+json": {
       "model_id": "e2508a755a9d4145810056bf35d4b56b",
       "version_major": 2,
       "version_minor": 0
      },
      "text/plain": [
       "A Jupyter Widget"
      ]
     },
     "metadata": {},
     "output_type": "display_data"
    },
    {
     "name": "stdout",
     "output_type": "stream",
     "text": [
      "Точность метода \"w2v+index\" на top-5 с весами 0.1 и 0.9 : 0.0036127167630057803\n"
     ]
    },
    {
     "data": {
      "application/vnd.jupyter.widget-view+json": {
       "model_id": "6c13a9f1d5854bedb782d9bc3bbf52ad",
       "version_major": 2,
       "version_minor": 0
      },
      "text/plain": [
       "A Jupyter Widget"
      ]
     },
     "metadata": {},
     "output_type": "display_data"
    },
    {
     "name": "stdout",
     "output_type": "stream",
     "text": [
      "Точность метода \"w2v+index\" на top-5 с весами 0.3 и 0.7 : 0.004335260115606936\n"
     ]
    },
    {
     "data": {
      "application/vnd.jupyter.widget-view+json": {
       "model_id": "94ef0fd87d8b4c41bcb9aba7b36a8ff3",
       "version_major": 2,
       "version_minor": 0
      },
      "text/plain": [
       "A Jupyter Widget"
      ]
     },
     "metadata": {},
     "output_type": "display_data"
    },
    {
     "name": "stdout",
     "output_type": "stream",
     "text": [
      "Точность метода \"w2v+index\" на top-5 с весами 0.5 и 0.5 : 0.004335260115606936\n"
     ]
    },
    {
     "data": {
      "application/vnd.jupyter.widget-view+json": {
       "model_id": "63bf3df274f942b584dcd75dc33c2d31",
       "version_major": 2,
       "version_minor": 0
      },
      "text/plain": [
       "A Jupyter Widget"
      ]
     },
     "metadata": {},
     "output_type": "display_data"
    },
    {
     "name": "stdout",
     "output_type": "stream",
     "text": [
      "Точность метода \"w2v+index\" на top-5 с весами 0.7 и 0.3 : 0.004335260115606936\n"
     ]
    },
    {
     "data": {
      "application/vnd.jupyter.widget-view+json": {
       "model_id": "3b2547b717c0402daf8d5ee8a5a784c9",
       "version_major": 2,
       "version_minor": 0
      },
      "text/plain": [
       "A Jupyter Widget"
      ]
     },
     "metadata": {},
     "output_type": "display_data"
    },
    {
     "name": "stdout",
     "output_type": "stream",
     "text": [
      "Точность метода \"w2v+index\" на top-5 с весами 0.9 и 0.1 : 0.004335260115606936\n"
     ]
    }
   ],
   "source": [
    "for v in np.linspace(0.1, 0.9, 5):\n",
    "    acc_blend = accuracy_ind_w2v(v, questions, tfidf_questions, df['w2v_tfidf'], multiply_tfidf=True, pos=False, top=5)\n",
    "    print('Точность метода \"w2v+index\" на top-5 с весами', str(round(v, 1)), 'и', str(round(1-v, 1)), ':', acc_blend)"
   ]
  },
  {
   "cell_type": "code",
   "execution_count": null,
   "metadata": {
    "collapsed": true
   },
   "outputs": [],
   "source": []
  }
 ],
 "metadata": {
  "kernelspec": {
   "display_name": "Python 3",
   "language": "python",
   "name": "python3"
  }
 },
 "nbformat": 4,
 "nbformat_minor": 2
}
