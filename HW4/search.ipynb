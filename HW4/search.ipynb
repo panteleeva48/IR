{
 "cells": [
  {
   "cell_type": "markdown",
   "metadata": {},
   "source": [
    "## ДЗ по поиску\n",
    "\n",
    "Привет! Вам надо реализивать поисковик на базе вопросов-ответов с сайта [pravoved.ru](https://pravoved.ru/questions-archive/).        \n",
    "Поиск должен работать на трех технологиях:       \n",
    "1. обратном индексе     \n",
    "2. word2vec         \n",
    "3. doc2vec      \n",
    "\n",
    "Вы должны понять, какой метод и при каких условиях эксперимента на этом корпусе работает лучше.          \n",
    "Для измерения качества поиска найдите точность (accuracy) выпадания правильного ответа на конкретный вопрос (в этой базе у каждого вопроса есть только один правильный ответ). Точность нужно измерить для всей базы.    \n",
    "При этом давайте считать, что выпал правильный ответ, если он попал в **топ-5** поисковой выдачи.\n",
    "\n",
    "> Сделайте ваш поиск максимально качественным, чтобы значение точности стремилось к 1.     \n",
    "Для этого можно поэкспериментировать со следующим:       \n",
    "- модель word2vec (можно брать любую из опен сорса или обучить свою)\n",
    "- способ получения вектора документа через word2vec: простое среднее арифметическое или взвешивать каждый вектор в соответствии с его tf-idf      \n",
    "- количество эпох у doc2vec (начинайте от 100)\n",
    "- предобработка документов для обучения doc2vec (удалять / не удалять стоп-слова)\n",
    "- блендинг методов поиска: соединить результаты обратного индекса и w2v, или (что проще) w2v и d2v\n",
    "\n",
    "На это задание отведем 10 дней. Дэдлайн сдачи до полуночи 12.10."
   ]
  },
  {
   "cell_type": "code",
   "execution_count": 196,
   "metadata": {
    "collapsed": true
   },
   "outputs": [],
   "source": [
    "from gensim.models import Word2Vec, KeyedVectors\n",
    "from nltk.corpus import stopwords\n",
    "from nltk.tokenize import word_tokenize\n",
    "import string\n",
    "import judicial_splitter\n",
    "import collections\n",
    "from pymystem3 import Mystem\n",
    "mystem = Mystem()\n",
    "import numpy as np\n",
    "from tqdm import tqdm_notebook as tqdm\n",
    "import os\n",
    "import pandas as pd\n",
    "from gensim.test.utils import get_tmpfile\n",
    "from gensim.models.doc2vec import Doc2Vec, TaggedDocument\n",
    "from nltk.tokenize import word_tokenize\n",
    "import operator\n",
    "import re\n",
    "from sklearn.feature_extraction.text import CountVectorizer\n",
    "import warnings\n",
    "warnings.filterwarnings(\"ignore\")\n",
    "import math\n",
    "from model import Model\n",
    "import sys\n",
    "if sys.version_info[0] < 3: \n",
    "    from StringIO import StringIO\n",
    "else:\n",
    "    from io import StringIO"
   ]
  },
  {
   "cell_type": "code",
   "execution_count": 2,
   "metadata": {},
   "outputs": [],
   "source": [
    "import pickle\n",
    "\n",
    "with open('qa_corpus.pkl', 'rb') as file:\n",
    "    qa_corpus = pickle.load(file)"
   ]
  },
  {
   "cell_type": "markdown",
   "metadata": {},
   "source": [
    "Всего в корпусе 1384 пары вопрос-ответ"
   ]
  },
  {
   "cell_type": "code",
   "execution_count": 3,
   "metadata": {},
   "outputs": [
    {
     "data": {
      "text/plain": [
       "1384"
      ]
     },
     "execution_count": 3,
     "metadata": {},
     "output_type": "execute_result"
    }
   ],
   "source": [
    "len(qa_corpus)"
   ]
  },
  {
   "cell_type": "markdown",
   "metadata": {},
   "source": [
    "Первый элемент блока это вопрос, второй - ответ на него"
   ]
  },
  {
   "cell_type": "code",
   "execution_count": 4,
   "metadata": {},
   "outputs": [
    {
     "data": {
      "text/plain": [
       "['\\nДобрый день.Мой сын гражданин Украины (ДНР),имеет вид на жительство в Р.Ф., кот.получил проживая с 2014 г. в Нижегородской области.В 2017г. переехал на постоянное место жительство в г.Ростов.Официально трудоустроился на одно из промышл.предприятий г.Ростова.Оформил временную регистрацию в Ростове.В УФМС предупредили,что по истечении 90 дней он должен либо постоянно прописаться либо покинуть территорию России.Прошу проконсультировать как быть дальше.(Вернуться домой в Донецк,но здесь идет война,работы нет.В Ростове он работает по специальности.Он инженер машиностроитель.)Временная прописка до 15 марта.  Если он сможет приобрести какую либо недвижимость,как долго будет решаться вопрос о его постоянной прописке в Ростове.Как в этом случае будет решаться вопрос с видом на жительство в Ростове? Не получится ли ,что приобретя квартиру,он не успеет в ней прописаться до окончании срока временной регистрации. С уважением Людмила Евгеньевна.\\n',\n",
       " 'Добрый вечер!Из Вашего вопроса вообще ничего не ясно.Ваш сын по ВНЖ в Нижегородской обл. сделал временную\\xa0 на 90 дней в Ростове? Так? Или в чем заключается вопрос?С ув., АлёнаМиграционный юристРостов-на-Дону ']"
      ]
     },
     "execution_count": 4,
     "metadata": {},
     "output_type": "execute_result"
    }
   ],
   "source": [
    "qa_corpus[0]"
   ]
  },
  {
   "cell_type": "code",
   "execution_count": 5,
   "metadata": {
    "collapsed": true
   },
   "outputs": [],
   "source": [
    "questions, answers = [], []\n",
    "for qa in qa_corpus:\n",
    "    question = qa[0]\n",
    "    answer = qa[1]\n",
    "    questions.append(question)\n",
    "    answers.append(answer)"
   ]
  },
  {
   "cell_type": "code",
   "execution_count": 6,
   "metadata": {
    "collapsed": true
   },
   "outputs": [],
   "source": [
    "def preprocessing(input_text, del_stopwords=True, del_digit=True):\n",
    "    \"\"\"\n",
    "    :input: raw text\n",
    "        1. lowercase, del punctuation, tokenize\n",
    "        2. normal form\n",
    "        3. del stopwords\n",
    "        4. del digits\n",
    "    :return: lemmas\n",
    "    \"\"\"\n",
    "    russian_stopwords = set(stopwords.words('russian'))\n",
    "    if del_digit:\n",
    "        input_text = re.sub('[0-9]', '', input_text)\n",
    "    words = [x.lower().strip(string.punctuation+'»«–…') for x in word_tokenize(input_text)]\n",
    "    lemmas = [mystem.lemmatize(x)[0] for x in words if x]\n",
    "\n",
    "    lemmas_arr = []\n",
    "    for lemma in lemmas:\n",
    "        if del_stopwords:\n",
    "            if lemma in russian_stopwords:\n",
    "                continue\n",
    "        lemmas_arr.append(lemma)\n",
    "    return lemmas_arr"
   ]
  },
  {
   "cell_type": "markdown",
   "metadata": {},
   "source": [
    "# TF.IDF"
   ]
  },
  {
   "cell_type": "code",
   "execution_count": 7,
   "metadata": {},
   "outputs": [],
   "source": [
    "def compute_tf(text):\n",
    "    tf_text = collections.Counter(text)\n",
    "    for i in tf_text:\n",
    "        tf_text[i] = tf_text[i]/float(len(text))\n",
    "    return tf_text"
   ]
  },
  {
   "cell_type": "code",
   "execution_count": 8,
   "metadata": {},
   "outputs": [],
   "source": [
    "def compute_idf(word, corpus):\n",
    "    return math.log10(len(corpus)/sum([1.0 for i in corpus if word in i]))"
   ]
  },
  {
   "cell_type": "code",
   "execution_count": 9,
   "metadata": {},
   "outputs": [],
   "source": [
    "def compute_tfidf(corpus):\n",
    "    documents_list = []\n",
    "    for text in tqdm(corpus):\n",
    "        tf_idf_dictionary = {}\n",
    "        computed_tf = compute_tf(text)\n",
    "        for word in computed_tf:\n",
    "            tf_idf_dictionary[word] = computed_tf[word] * compute_idf(word, corpus)\n",
    "        documents_list.append(tf_idf_dictionary)\n",
    "    return documents_list\n",
    "\n",
    "#corpus = [['pasta', 'la', 'vista', 'baby', 'la', 'vista'], \n",
    "#['hasta', 'siempre', 'comandante', 'baby', 'la', 'siempre'], \n",
    "#['siempre', 'comandante', 'baby', 'la', 'siempre']]\n",
    "#compute_tfidf(corpus)"
   ]
  },
  {
   "cell_type": "code",
   "execution_count": 10,
   "metadata": {},
   "outputs": [
    {
     "data": {
      "application/vnd.jupyter.widget-view+json": {
       "model_id": "c40767a66d674bfcb305384f76d6d8c8",
       "version_major": 2,
       "version_minor": 0
      },
      "text/plain": [
       "A Jupyter Widget"
      ]
     },
     "metadata": {},
     "output_type": "display_data"
    },
    {
     "name": "stdout",
     "output_type": "stream",
     "text": [
      "\n"
     ]
    }
   ],
   "source": [
    "corpus = [preprocessing(q) for q in questions] + [preprocessing(a) for a in answers]\n",
    "tfidf = compute_tfidf(corpus)"
   ]
  },
  {
   "cell_type": "code",
   "execution_count": 11,
   "metadata": {
    "collapsed": true
   },
   "outputs": [],
   "source": [
    "tfidf_questions = tfidf[0:len(questions)]\n",
    "tfidf_answers = tfidf[len(questions):]"
   ]
  },
  {
   "cell_type": "markdown",
   "metadata": {},
   "source": [
    "# w2v"
   ]
  },
  {
   "cell_type": "code",
   "execution_count": 12,
   "metadata": {},
   "outputs": [],
   "source": [
    "# если модель без тэгов\n",
    "model_without_pos = Word2Vec.load('/Users/irene/Downloads/IR/araneum_none_fasttextcbow_300_5_2018/araneum_none_fasttextcbow_300_5_2018.model')"
   ]
  },
  {
   "cell_type": "code",
   "execution_count": 13,
   "metadata": {
    "collapsed": true
   },
   "outputs": [],
   "source": [
    "def get_w2v_vectors_paragraph(paragraph, model, tfidf, ind, multiply_tfidf=True, pos=False):\n",
    "    \"\"\"Получает вектор для параграфа\"\"\"\n",
    "    lemmas_paragraph = preprocessing(paragraph)\n",
    "    #print('lemmas_paragraph', lemmas_paragraph)\n",
    "    if len(lemmas_paragraph) == 0:\n",
    "        return np.zeros(300)\n",
    "    else:\n",
    "        vector_paragraph = []\n",
    "        for lemma in lemmas_paragraph:\n",
    "            if pos:\n",
    "                lemma = lemma + '_' + get_pos(lemma)\n",
    "            try:\n",
    "                if multiply_tfidf:\n",
    "                    vector = model.wv[lemma] * tfidf[ind][lemma]\n",
    "                else:\n",
    "                    vector = model.wv[lemma]\n",
    "            except:\n",
    "                vector = np.zeros(300)\n",
    "            vector_paragraph.append(vector)\n",
    "        vec = np.array(vector_paragraph).sum(axis=0) / len(vector_paragraph)\n",
    "        return vec.tolist()"
   ]
  },
  {
   "cell_type": "code",
   "execution_count": 14,
   "metadata": {},
   "outputs": [],
   "source": [
    "def get_w2v_vectors_text(text, model, tfidf, ind, len_par=4, multiply_tfidf=True, pos=False):\n",
    "    \"\"\"Получает массив векторов параграфов\"\"\"\n",
    "    paragraphs = judicial_splitter.splitter(text, len_par)\n",
    "    return [(paragraph, get_w2v_vectors_paragraph(paragraph, model, tfidf, ind, multiply_tfidf=multiply_tfidf, pos=pos)) for paragraph in paragraphs]"
   ]
  },
  {
   "cell_type": "code",
   "execution_count": 15,
   "metadata": {
    "collapsed": true
   },
   "outputs": [],
   "source": [
    "def save_w2v_base(answers, model, tfidf, len_par=4, multiply_tfidf=True, pos=False):\n",
    "    \"\"\"Индексирует всю базу для поиска через word2vec\"\"\"\n",
    "    id_answer = []\n",
    "    text_of_paragraph = []\n",
    "    w2v = []\n",
    "    for i, answer in tqdm(enumerate(answers)):\n",
    "        v_paragraphs = get_w2v_vectors_text(answer, model, tfidf, i, len_par=len_par, multiply_tfidf=multiply_tfidf, pos=pos)\n",
    "        for v_p in v_paragraphs:\n",
    "            id_answer.append(i)\n",
    "            text_of_paragraph.append(v_p[0])\n",
    "            w2v.append(v_p[1])\n",
    "    return id_answer, text_of_paragraph, w2v"
   ]
  },
  {
   "cell_type": "code",
   "execution_count": 16,
   "metadata": {
    "collapsed": true
   },
   "outputs": [],
   "source": [
    "def create_df(name_cols, data_cols):\n",
    "    df = {}\n",
    "    for i, name in enumerate(name_cols):\n",
    "        df[name] = data_cols[i]\n",
    "    df = pd.DataFrame(data=df)\n",
    "    return df"
   ]
  },
  {
   "cell_type": "markdown",
   "metadata": {},
   "source": [
    "# БЕЗ TF.IDF"
   ]
  },
  {
   "cell_type": "code",
   "execution_count": 17,
   "metadata": {},
   "outputs": [
    {
     "data": {
      "application/vnd.jupyter.widget-view+json": {
       "model_id": "e3d5a12c8d974553b78f6f25541820ab",
       "version_major": 2,
       "version_minor": 0
      },
      "text/plain": [
       "A Jupyter Widget"
      ]
     },
     "metadata": {},
     "output_type": "display_data"
    },
    {
     "name": "stdout",
     "output_type": "stream",
     "text": [
      "\n"
     ]
    }
   ],
   "source": [
    "id_answer, text_of_paragraph, w2v = save_w2v_base(answers, model_without_pos, tfidf_answers, len_par=2, multiply_tfidf=False)"
   ]
  },
  {
   "cell_type": "code",
   "execution_count": 18,
   "metadata": {},
   "outputs": [],
   "source": [
    "df = create_df(['id_answer', 'text_of_paragraph', 'w2v'], [id_answer, text_of_paragraph, w2v])"
   ]
  },
  {
   "cell_type": "markdown",
   "metadata": {},
   "source": [
    "# С TF.IDF"
   ]
  },
  {
   "cell_type": "code",
   "execution_count": 19,
   "metadata": {},
   "outputs": [
    {
     "data": {
      "application/vnd.jupyter.widget-view+json": {
       "model_id": "1e50c0da7f564627a4f4a6c2bb7703d1",
       "version_major": 2,
       "version_minor": 0
      },
      "text/plain": [
       "A Jupyter Widget"
      ]
     },
     "metadata": {},
     "output_type": "display_data"
    },
    {
     "name": "stdout",
     "output_type": "stream",
     "text": [
      "\n"
     ]
    }
   ],
   "source": [
    "id_answer_tfidf, text_of_paragraph_tfidf, w2v_tfidf = save_w2v_base(answers, model_without_pos, tfidf_answers, len_par=2, multiply_tfidf=True)\n",
    "df['w2v_tfidf'] = w2v_tfidf"
   ]
  },
  {
   "cell_type": "markdown",
   "metadata": {},
   "source": [
    "# С POS-tagging"
   ]
  },
  {
   "cell_type": "code",
   "execution_count": 22,
   "metadata": {
    "collapsed": true
   },
   "outputs": [],
   "source": [
    "def get_pos(lemma):\n",
    "    sentences = model_udpipe.tokenize(lemma)\n",
    "    for s in sentences:\n",
    "        model_udpipe.tag(s)\n",
    "        model_udpipe.parse(s)\n",
    "    conllu = model_udpipe.write(sentences, \"conllu\")\n",
    "    conllu = re.sub('# .+?\\n', '', conllu)\n",
    "    pos = re.search('(.+?\\t){3}(.+?)\\t', conllu).group(2)\n",
    "    return pos"
   ]
  },
  {
   "cell_type": "code",
   "execution_count": 23,
   "metadata": {},
   "outputs": [
    {
     "data": {
      "application/vnd.jupyter.widget-view+json": {
       "model_id": "c3d69234ca8f4e5f9b38f0149e230d5c",
       "version_major": 2,
       "version_minor": 0
      },
      "text/plain": [
       "A Jupyter Widget"
      ]
     },
     "metadata": {},
     "output_type": "display_data"
    },
    {
     "name": "stdout",
     "output_type": "stream",
     "text": [
      "\n"
     ]
    },
    {
     "data": {
      "application/vnd.jupyter.widget-view+json": {
       "model_id": "6f45b160dbe942d1b92932ef29781c64",
       "version_major": 2,
       "version_minor": 0
      },
      "text/plain": [
       "A Jupyter Widget"
      ]
     },
     "metadata": {},
     "output_type": "display_data"
    },
    {
     "name": "stdout",
     "output_type": "stream",
     "text": [
      "\n"
     ]
    }
   ],
   "source": [
    "# модель с тегами\n",
    "model_pos = KeyedVectors.load_word2vec_format('/Users/irene/Downloads/tayga_1_2.vec', binary=False)\n",
    "model_udpipe = Model('russian-ud-2.0-170801.udpipe')\n",
    "id_answer_pos, text_of_paragraph_pos, w2v_pos = save_w2v_base(answers, model_pos, tfidf_answers, len_par=2, multiply_tfidf=False, pos=True)\n",
    "df['w2v_pos'] = w2v_pos\n",
    "id_answer_pos_tfidf, text_of_paragraph_pos_tfidf, w2v_pos_tfidf = save_w2v_base(answers, model_pos, tfidf_answers, len_par=2, pos=True)\n",
    "df['w2v_pos_tfidf'] = w2v_pos"
   ]
  },
  {
   "cell_type": "markdown",
   "metadata": {},
   "source": [
    "# train my model"
   ]
  },
  {
   "cell_type": "markdown",
   "metadata": {},
   "source": [
    "https://drive.google.com/file/d/14wqRshysIn0Cs4dDM_WaW4jPTtix1sgD/view?usp=sharing"
   ]
  },
  {
   "cell_type": "code",
   "execution_count": 32,
   "metadata": {},
   "outputs": [
    {
     "data": {
      "application/vnd.jupyter.widget-view+json": {
       "model_id": "7fcdceef98604901beffca5f3d53b841",
       "version_major": 2,
       "version_minor": 0
      },
      "text/plain": [
       "A Jupyter Widget"
      ]
     },
     "metadata": {},
     "output_type": "display_data"
    },
    {
     "name": "stdout",
     "output_type": "stream",
     "text": [
      "\n"
     ]
    }
   ],
   "source": [
    "train_text = [preprocessing(ans_1) for ans_1 in answers]\n",
    "path = get_tmpfile(\"my_word2vec.model\")\n",
    "my_model = Word2Vec(train_text, size=300, window=5, min_count=1, workers=4)\n",
    "my_model.save(\"my_word2vec.model\")\n",
    "my_id_answer, my_text_of_paragraph, my_w2v = save_w2v_base(answers, my_model, tfidf_answers, len_par=2, multiply_tfidf=False)\n",
    "df['my_w2v'] = my_w2v"
   ]
  },
  {
   "cell_type": "markdown",
   "metadata": {
    "collapsed": true
   },
   "source": [
    "# d2v"
   ]
  },
  {
   "cell_type": "code",
   "execution_count": 26,
   "metadata": {
    "collapsed": true
   },
   "outputs": [],
   "source": [
    "def train_doc2vec(data, epochs=100):\n",
    "    tagged_data = [TaggedDocument(words=word_tokenize(_d.lower()), tags=[str(i)]) for i, _d in enumerate(data)]\n",
    "    model = Doc2Vec(vector_size=100, min_count=5, alpha=0.025, \n",
    "                min_alpha=0.025, epochs=epochs, workers=4, dm=1)\n",
    "\n",
    "    model.build_vocab(tagged_data)\n",
    "    model.train(tagged_data, total_examples=model.corpus_count, epochs=model.epochs)\n",
    "    return model"
   ]
  },
  {
   "cell_type": "code",
   "execution_count": 27,
   "metadata": {
    "collapsed": true
   },
   "outputs": [],
   "source": [
    "fname = get_tmpfile(\"model_doc2vec_QA\")\n",
    "#model_doc2vec = train_doc2vec(df['text_of_paragraph'], epochs=1000)\n",
    "#model_doc2vec.save(fname)\n",
    "model_doc2vec = Doc2Vec.load(fname)"
   ]
  },
  {
   "cell_type": "code",
   "execution_count": 28,
   "metadata": {
    "collapsed": true
   },
   "outputs": [],
   "source": [
    "def get_d2v_vectors(paragraph, model_doc2vec, steps=5, alpha=0.1):\n",
    "    \"\"\"Получает вектор параграфа\"\"\"\n",
    "    lemmas_paragraph = preprocessing(paragraph, del_stopwords=False)\n",
    "    model_doc2vec.random.seed(100)\n",
    "    vector = model_doc2vec.infer_vector(lemmas_paragraph, steps=steps, alpha=alpha)\n",
    "    return vector.tolist()\n",
    "\n",
    "def save_d2v_base(paragraphs, model_doc2vec, steps=5, alpha=0.1):\n",
    "    \"\"\"Индексирует всю базу для поиска через doc2vec\"\"\"\n",
    "    vectors_d2v = []\n",
    "    for par in tqdm(paragraphs):\n",
    "        vectors_d2v.append(get_d2v_vectors(par, model_doc2vec, steps=steps, alpha=alpha))\n",
    "    return vectors_d2v"
   ]
  },
  {
   "cell_type": "code",
   "execution_count": 29,
   "metadata": {},
   "outputs": [
    {
     "data": {
      "application/vnd.jupyter.widget-view+json": {
       "model_id": "40c667daf9b44c609e028133736a5ab0",
       "version_major": 2,
       "version_minor": 0
      },
      "text/plain": [
       "A Jupyter Widget"
      ]
     },
     "metadata": {},
     "output_type": "display_data"
    },
    {
     "name": "stdout",
     "output_type": "stream",
     "text": [
      "\n"
     ]
    },
    {
     "data": {
      "application/vnd.jupyter.widget-view+json": {
       "model_id": "56e82a9155044bf184ccab32b6bfe1d1",
       "version_major": 2,
       "version_minor": 0
      },
      "text/plain": [
       "A Jupyter Widget"
      ]
     },
     "metadata": {},
     "output_type": "display_data"
    },
    {
     "name": "stdout",
     "output_type": "stream",
     "text": [
      "\n"
     ]
    }
   ],
   "source": [
    "df['d2v_simple'] = save_d2v_base(df['text_of_paragraph'], model_doc2vec)\n",
    "df['d2v_hypo'] = save_d2v_base(df['text_of_paragraph'], model_doc2vec, steps=10, alpha=0.025)"
   ]
  },
  {
   "cell_type": "code",
   "execution_count": 33,
   "metadata": {},
   "outputs": [
    {
     "data": {
      "text/html": [
       "<div>\n",
       "<style scoped>\n",
       "    .dataframe tbody tr th:only-of-type {\n",
       "        vertical-align: middle;\n",
       "    }\n",
       "\n",
       "    .dataframe tbody tr th {\n",
       "        vertical-align: top;\n",
       "    }\n",
       "\n",
       "    .dataframe thead th {\n",
       "        text-align: right;\n",
       "    }\n",
       "</style>\n",
       "<table border=\"1\" class=\"dataframe\">\n",
       "  <thead>\n",
       "    <tr style=\"text-align: right;\">\n",
       "      <th></th>\n",
       "      <th>id_answer</th>\n",
       "      <th>text_of_paragraph</th>\n",
       "      <th>w2v</th>\n",
       "      <th>w2v_tfidf</th>\n",
       "      <th>w2v_pos</th>\n",
       "      <th>w2v_pos_tfidf</th>\n",
       "      <th>mu_w2v</th>\n",
       "      <th>d2v_simple</th>\n",
       "      <th>d2v_hypo</th>\n",
       "      <th>my_w2v</th>\n",
       "    </tr>\n",
       "  </thead>\n",
       "  <tbody>\n",
       "    <tr>\n",
       "      <th>0</th>\n",
       "      <td>0</td>\n",
       "      <td>Добрый вечер!Из Вашего вопроса вообще ничего н...</td>\n",
       "      <td>[-0.0037454424891620874, 0.0019313085358589888...</td>\n",
       "      <td>[0.0001088905191863887, -4.5868677261751145e-0...</td>\n",
       "      <td>[0.00604688091889808, 0.005329290515204009, -0...</td>\n",
       "      <td>[0.00604688091889808, 0.005329290515204009, -0...</td>\n",
       "      <td>[0.07501664757728577, -0.09495332092046738, -0...</td>\n",
       "      <td>[0.4394567906856537, 1.2520071268081665, -0.14...</td>\n",
       "      <td>[0.17822310328483582, 1.4375102519989014, -0.2...</td>\n",
       "      <td>[0.07204142957925797, -0.07892116904258728, -0...</td>\n",
       "    </tr>\n",
       "    <tr>\n",
       "      <th>1</th>\n",
       "      <td>1</td>\n",
       "      <td>Оксана, Вы вправе не платить налог, если являе...</td>\n",
       "      <td>[0.043672472070044786, -0.0023205415590813287,...</td>\n",
       "      <td>[0.0020447711533027983, 0.0001374839770218578,...</td>\n",
       "      <td>[-0.01731853481569009, 0.008737271714428636, 0...</td>\n",
       "      <td>[-0.01731853481569009, 0.008737271714428636, 0...</td>\n",
       "      <td>[0.17264589667320251, -0.11381981521844864, -0...</td>\n",
       "      <td>[1.8779473304748535, 1.2621811628341675, -0.29...</td>\n",
       "      <td>[0.8579018712043762, 0.8938591480255127, 0.175...</td>\n",
       "      <td>[0.17516256868839264, -0.07227104902267456, -0...</td>\n",
       "    </tr>\n",
       "    <tr>\n",
       "      <th>2</th>\n",
       "      <td>2</td>\n",
       "      <td>Здравствуйте, Илья! Можно ли подать приложения...</td>\n",
       "      <td>[0.00849547550897114, -0.008755609241779894, 0...</td>\n",
       "      <td>[0.00019125750559396694, -0.000272295524700894...</td>\n",
       "      <td>[-0.021240784818655812, 0.0026774465921334924,...</td>\n",
       "      <td>[-0.021240784818655812, 0.0026774465921334924,...</td>\n",
       "      <td>[0.16439856588840485, -0.15668083727359772, -0...</td>\n",
       "      <td>[0.26170143485069275, 0.6218246817588806, 0.03...</td>\n",
       "      <td>[-0.40875673294067383, 0.768581211566925, 0.53...</td>\n",
       "      <td>[0.16471920907497406, -0.11509190499782562, -0...</td>\n",
       "    </tr>\n",
       "    <tr>\n",
       "      <th>3</th>\n",
       "      <td>2</td>\n",
       "      <td>Лица, участвующие в деле, вправе представлять ...</td>\n",
       "      <td>[0.014957115054130554, -0.01150572020560503, -...</td>\n",
       "      <td>[0.00037368200719356537, -0.000752608524635434...</td>\n",
       "      <td>[-0.030454383121634072, 0.0045334138568829405,...</td>\n",
       "      <td>[-0.030454383121634072, 0.0045334138568829405,...</td>\n",
       "      <td>[0.17913705110549927, -0.1371319741010666, -0....</td>\n",
       "      <td>[-0.1003810465335846, 0.22161240875720978, -0....</td>\n",
       "      <td>[-0.38867640495300293, 0.49730849266052246, 0....</td>\n",
       "      <td>[0.1851647049188614, -0.0843329206109047, -0.3...</td>\n",
       "    </tr>\n",
       "    <tr>\n",
       "      <th>4</th>\n",
       "      <td>2</td>\n",
       "      <td>Такие документы выполняются в форме, установле...</td>\n",
       "      <td>[0.014798891730606556, -0.006705345120280981, ...</td>\n",
       "      <td>[0.0007809624657966197, -0.0004444418009370565...</td>\n",
       "      <td>[-0.049720443636178974, 0.015440374696627259, ...</td>\n",
       "      <td>[-0.049720443636178974, 0.015440374696627259, ...</td>\n",
       "      <td>[0.2423543483018875, -0.08055200427770615, -0....</td>\n",
       "      <td>[0.7417150735855103, -1.196213722229004, 1.634...</td>\n",
       "      <td>[0.43548583984375, -0.8425877690315247, 1.3399...</td>\n",
       "      <td>[0.2474016547203064, -0.012366699054837227, -0...</td>\n",
       "    </tr>\n",
       "  </tbody>\n",
       "</table>\n",
       "</div>"
      ],
      "text/plain": [
       "   id_answer                                  text_of_paragraph  \\\n",
       "0          0  Добрый вечер!Из Вашего вопроса вообще ничего н...   \n",
       "1          1  Оксана, Вы вправе не платить налог, если являе...   \n",
       "2          2  Здравствуйте, Илья! Можно ли подать приложения...   \n",
       "3          2  Лица, участвующие в деле, вправе представлять ...   \n",
       "4          2  Такие документы выполняются в форме, установле...   \n",
       "\n",
       "                                                 w2v  \\\n",
       "0  [-0.0037454424891620874, 0.0019313085358589888...   \n",
       "1  [0.043672472070044786, -0.0023205415590813287,...   \n",
       "2  [0.00849547550897114, -0.008755609241779894, 0...   \n",
       "3  [0.014957115054130554, -0.01150572020560503, -...   \n",
       "4  [0.014798891730606556, -0.006705345120280981, ...   \n",
       "\n",
       "                                           w2v_tfidf  \\\n",
       "0  [0.0001088905191863887, -4.5868677261751145e-0...   \n",
       "1  [0.0020447711533027983, 0.0001374839770218578,...   \n",
       "2  [0.00019125750559396694, -0.000272295524700894...   \n",
       "3  [0.00037368200719356537, -0.000752608524635434...   \n",
       "4  [0.0007809624657966197, -0.0004444418009370565...   \n",
       "\n",
       "                                             w2v_pos  \\\n",
       "0  [0.00604688091889808, 0.005329290515204009, -0...   \n",
       "1  [-0.01731853481569009, 0.008737271714428636, 0...   \n",
       "2  [-0.021240784818655812, 0.0026774465921334924,...   \n",
       "3  [-0.030454383121634072, 0.0045334138568829405,...   \n",
       "4  [-0.049720443636178974, 0.015440374696627259, ...   \n",
       "\n",
       "                                       w2v_pos_tfidf  \\\n",
       "0  [0.00604688091889808, 0.005329290515204009, -0...   \n",
       "1  [-0.01731853481569009, 0.008737271714428636, 0...   \n",
       "2  [-0.021240784818655812, 0.0026774465921334924,...   \n",
       "3  [-0.030454383121634072, 0.0045334138568829405,...   \n",
       "4  [-0.049720443636178974, 0.015440374696627259, ...   \n",
       "\n",
       "                                              mu_w2v  \\\n",
       "0  [0.07501664757728577, -0.09495332092046738, -0...   \n",
       "1  [0.17264589667320251, -0.11381981521844864, -0...   \n",
       "2  [0.16439856588840485, -0.15668083727359772, -0...   \n",
       "3  [0.17913705110549927, -0.1371319741010666, -0....   \n",
       "4  [0.2423543483018875, -0.08055200427770615, -0....   \n",
       "\n",
       "                                          d2v_simple  \\\n",
       "0  [0.4394567906856537, 1.2520071268081665, -0.14...   \n",
       "1  [1.8779473304748535, 1.2621811628341675, -0.29...   \n",
       "2  [0.26170143485069275, 0.6218246817588806, 0.03...   \n",
       "3  [-0.1003810465335846, 0.22161240875720978, -0....   \n",
       "4  [0.7417150735855103, -1.196213722229004, 1.634...   \n",
       "\n",
       "                                            d2v_hypo  \\\n",
       "0  [0.17822310328483582, 1.4375102519989014, -0.2...   \n",
       "1  [0.8579018712043762, 0.8938591480255127, 0.175...   \n",
       "2  [-0.40875673294067383, 0.768581211566925, 0.53...   \n",
       "3  [-0.38867640495300293, 0.49730849266052246, 0....   \n",
       "4  [0.43548583984375, -0.8425877690315247, 1.3399...   \n",
       "\n",
       "                                              my_w2v  \n",
       "0  [0.07204142957925797, -0.07892116904258728, -0...  \n",
       "1  [0.17516256868839264, -0.07227104902267456, -0...  \n",
       "2  [0.16471920907497406, -0.11509190499782562, -0...  \n",
       "3  [0.1851647049188614, -0.0843329206109047, -0.3...  \n",
       "4  [0.2474016547203064, -0.012366699054837227, -0...  "
      ]
     },
     "execution_count": 33,
     "metadata": {},
     "output_type": "execute_result"
    }
   ],
   "source": [
    "df.head()"
   ]
  },
  {
   "cell_type": "code",
   "execution_count": 34,
   "metadata": {
    "collapsed": true
   },
   "outputs": [],
   "source": [
    "df.to_csv('QA_df.csv')"
   ]
  },
  {
   "cell_type": "markdown",
   "metadata": {},
   "source": [
    "https://drive.google.com/file/d/1CHnCTjIXWjAEmGAPW0_TCH47tm2SgASO/view?usp=sharing"
   ]
  },
  {
   "cell_type": "markdown",
   "metadata": {},
   "source": [
    "# w2v + d2v (общие функции для поиска)"
   ]
  },
  {
   "cell_type": "code",
   "execution_count": 35,
   "metadata": {
    "collapsed": true
   },
   "outputs": [],
   "source": [
    "from gensim import matutils\n",
    "import numpy as np \n",
    "\n",
    "def similarity(v1, v2):\n",
    "    v1_norm = matutils.unitvec(np.array(v1))\n",
    "    v2_norm = matutils.unitvec(np.array(v2))\n",
    "    return np.dot(v1_norm, v2_norm)"
   ]
  },
  {
   "cell_type": "code",
   "execution_count": 36,
   "metadata": {
    "collapsed": true
   },
   "outputs": [],
   "source": [
    "def res_v(vectors, names_doc, v_quary):\n",
    "    res = []\n",
    "    for i, vector in enumerate(vectors):\n",
    "        cos_sim = similarity(v_quary, vector)\n",
    "        res.append((names_doc[i], cos_sim))\n",
    "    res.sort(key=operator.itemgetter(1), reverse=True)\n",
    "    return res"
   ]
  },
  {
   "cell_type": "code",
   "execution_count": 37,
   "metadata": {
    "collapsed": true
   },
   "outputs": [],
   "source": [
    "def search_w2v(quary, model, vectors_w2v, names_doc, tfidf, ind, multiply_tfidf=True, pos=False, top=5):\n",
    "    v_quary = get_w2v_vectors_paragraph(quary, model, tfidf, ind, multiply_tfidf=multiply_tfidf, pos=pos)\n",
    "    res = res_v(vectors_w2v, names_doc, v_quary)[0:top]\n",
    "    return res\n",
    "\n",
    "def search_d2v(quary, model, vectors_d2v, names_doc, steps=5, alpha=0.1, top=5):\n",
    "    v_quary = get_d2v_vectors(quary, model, steps=steps, alpha=alpha)\n",
    "    res = res_v(vectors_d2v, names_doc, v_quary)[0:top]\n",
    "    return res"
   ]
  },
  {
   "cell_type": "markdown",
   "metadata": {
    "collapsed": true
   },
   "source": [
    "# Обратный индекс"
   ]
  },
  {
   "cell_type": "code",
   "execution_count": 38,
   "metadata": {},
   "outputs": [
    {
     "data": {
      "application/vnd.jupyter.widget-view+json": {
       "model_id": "4d5a3843f6cf4beb989966cca00be812",
       "version_major": 2,
       "version_minor": 0
      },
      "text/plain": [
       "A Jupyter Widget"
      ]
     },
     "metadata": {},
     "output_type": "display_data"
    },
    {
     "name": "stdout",
     "output_type": "stream",
     "text": [
      "\n"
     ]
    }
   ],
   "source": [
    "lemmatized_texts = []\n",
    "for each_f in tqdm(answers):\n",
    "    lemmatized = ' '.join([x for x in preprocessing(each_f) if x != ' '])\n",
    "    lemmatized_texts.append(lemmatized)"
   ]
  },
  {
   "cell_type": "code",
   "execution_count": 39,
   "metadata": {
    "collapsed": true
   },
   "outputs": [],
   "source": [
    "vec = CountVectorizer()\n",
    "X = vec.fit_transform(lemmatized_texts)\n",
    "df_index = pd.DataFrame(X.toarray(), columns=vec.get_feature_names())\n",
    "words = list(vec.get_feature_names())"
   ]
  },
  {
   "cell_type": "code",
   "execution_count": 40,
   "metadata": {},
   "outputs": [
    {
     "data": {
      "text/html": [
       "<div>\n",
       "<style scoped>\n",
       "    .dataframe tbody tr th:only-of-type {\n",
       "        vertical-align: middle;\n",
       "    }\n",
       "\n",
       "    .dataframe tbody tr th {\n",
       "        vertical-align: top;\n",
       "    }\n",
       "\n",
       "    .dataframe thead th {\n",
       "        text-align: right;\n",
       "    }\n",
       "</style>\n",
       "<table border=\"1\" class=\"dataframe\">\n",
       "  <thead>\n",
       "    <tr style=\"text-align: right;\">\n",
       "      <th></th>\n",
       "      <th>00</th>\n",
       "      <th>01</th>\n",
       "      <th>02</th>\n",
       "      <th>03</th>\n",
       "      <th>04</th>\n",
       "      <th>05</th>\n",
       "      <th>06</th>\n",
       "      <th>07</th>\n",
       "      <th>08</th>\n",
       "      <th>09</th>\n",
       "      <th>...</th>\n",
       "      <th>январь</th>\n",
       "      <th>январялюдмилая</th>\n",
       "      <th>ярлык</th>\n",
       "      <th>ярослав</th>\n",
       "      <th>ярославский</th>\n",
       "      <th>ясно</th>\n",
       "      <th>ясный</th>\n",
       "      <th>яхта</th>\n",
       "      <th>ячейка</th>\n",
       "      <th>ящик</th>\n",
       "    </tr>\n",
       "  </thead>\n",
       "  <tbody>\n",
       "    <tr>\n",
       "      <th>0</th>\n",
       "      <td>0</td>\n",
       "      <td>0</td>\n",
       "      <td>0</td>\n",
       "      <td>0</td>\n",
       "      <td>0</td>\n",
       "      <td>0</td>\n",
       "      <td>0</td>\n",
       "      <td>0</td>\n",
       "      <td>0</td>\n",
       "      <td>0</td>\n",
       "      <td>...</td>\n",
       "      <td>0</td>\n",
       "      <td>0</td>\n",
       "      <td>0</td>\n",
       "      <td>0</td>\n",
       "      <td>0</td>\n",
       "      <td>1</td>\n",
       "      <td>0</td>\n",
       "      <td>0</td>\n",
       "      <td>0</td>\n",
       "      <td>0</td>\n",
       "    </tr>\n",
       "    <tr>\n",
       "      <th>1</th>\n",
       "      <td>0</td>\n",
       "      <td>0</td>\n",
       "      <td>0</td>\n",
       "      <td>0</td>\n",
       "      <td>0</td>\n",
       "      <td>0</td>\n",
       "      <td>0</td>\n",
       "      <td>0</td>\n",
       "      <td>0</td>\n",
       "      <td>0</td>\n",
       "      <td>...</td>\n",
       "      <td>0</td>\n",
       "      <td>0</td>\n",
       "      <td>0</td>\n",
       "      <td>0</td>\n",
       "      <td>0</td>\n",
       "      <td>0</td>\n",
       "      <td>0</td>\n",
       "      <td>0</td>\n",
       "      <td>0</td>\n",
       "      <td>0</td>\n",
       "    </tr>\n",
       "    <tr>\n",
       "      <th>2</th>\n",
       "      <td>0</td>\n",
       "      <td>0</td>\n",
       "      <td>0</td>\n",
       "      <td>0</td>\n",
       "      <td>0</td>\n",
       "      <td>0</td>\n",
       "      <td>0</td>\n",
       "      <td>0</td>\n",
       "      <td>0</td>\n",
       "      <td>0</td>\n",
       "      <td>...</td>\n",
       "      <td>0</td>\n",
       "      <td>0</td>\n",
       "      <td>0</td>\n",
       "      <td>0</td>\n",
       "      <td>0</td>\n",
       "      <td>0</td>\n",
       "      <td>0</td>\n",
       "      <td>0</td>\n",
       "      <td>0</td>\n",
       "      <td>0</td>\n",
       "    </tr>\n",
       "    <tr>\n",
       "      <th>3</th>\n",
       "      <td>0</td>\n",
       "      <td>0</td>\n",
       "      <td>0</td>\n",
       "      <td>0</td>\n",
       "      <td>0</td>\n",
       "      <td>0</td>\n",
       "      <td>0</td>\n",
       "      <td>0</td>\n",
       "      <td>0</td>\n",
       "      <td>0</td>\n",
       "      <td>...</td>\n",
       "      <td>0</td>\n",
       "      <td>0</td>\n",
       "      <td>0</td>\n",
       "      <td>0</td>\n",
       "      <td>0</td>\n",
       "      <td>0</td>\n",
       "      <td>0</td>\n",
       "      <td>0</td>\n",
       "      <td>0</td>\n",
       "      <td>0</td>\n",
       "    </tr>\n",
       "    <tr>\n",
       "      <th>4</th>\n",
       "      <td>0</td>\n",
       "      <td>0</td>\n",
       "      <td>0</td>\n",
       "      <td>0</td>\n",
       "      <td>0</td>\n",
       "      <td>0</td>\n",
       "      <td>0</td>\n",
       "      <td>0</td>\n",
       "      <td>0</td>\n",
       "      <td>0</td>\n",
       "      <td>...</td>\n",
       "      <td>0</td>\n",
       "      <td>0</td>\n",
       "      <td>0</td>\n",
       "      <td>0</td>\n",
       "      <td>0</td>\n",
       "      <td>0</td>\n",
       "      <td>0</td>\n",
       "      <td>0</td>\n",
       "      <td>0</td>\n",
       "      <td>0</td>\n",
       "    </tr>\n",
       "  </tbody>\n",
       "</table>\n",
       "<p>5 rows × 7318 columns</p>\n",
       "</div>"
      ],
      "text/plain": [
       "   00  01  02  03  04  05  06  07  08  09  ...   январь  январялюдмилая  \\\n",
       "0   0   0   0   0   0   0   0   0   0   0  ...        0               0   \n",
       "1   0   0   0   0   0   0   0   0   0   0  ...        0               0   \n",
       "2   0   0   0   0   0   0   0   0   0   0  ...        0               0   \n",
       "3   0   0   0   0   0   0   0   0   0   0  ...        0               0   \n",
       "4   0   0   0   0   0   0   0   0   0   0  ...        0               0   \n",
       "\n",
       "   ярлык  ярослав  ярославский  ясно  ясный  яхта  ячейка  ящик  \n",
       "0      0        0            0     1      0     0       0     0  \n",
       "1      0        0            0     0      0     0       0     0  \n",
       "2      0        0            0     0      0     0       0     0  \n",
       "3      0        0            0     0      0     0       0     0  \n",
       "4      0        0            0     0      0     0       0     0  \n",
       "\n",
       "[5 rows x 7318 columns]"
      ]
     },
     "execution_count": 40,
     "metadata": {},
     "output_type": "execute_result"
    }
   ],
   "source": [
    "df_index.head()"
   ]
  },
  {
   "cell_type": "code",
   "execution_count": 43,
   "metadata": {
    "collapsed": true
   },
   "outputs": [],
   "source": [
    "def inverted_index(df) -> dict:\n",
    "    \"\"\"\n",
    "    Create inverted index by input doc collection\n",
    "    :return: inverted index\n",
    "    \"\"\"\n",
    "    files = []\n",
    "    for word in df:\n",
    "        sub = []\n",
    "        docs = np.where(df[word] > 0)[0]\n",
    "        for f in docs:\n",
    "            dl = len(lemmatized_texts[f].split())\n",
    "            fr = round(df[word][f]/dl, 4)\n",
    "            sub.append([f, dl, fr])\n",
    "        files.append(sub)\n",
    "    index = pd.DataFrame(data={'Слово': words, 'Информация': files})\n",
    "    return index"
   ]
  },
  {
   "cell_type": "code",
   "execution_count": 44,
   "metadata": {},
   "outputs": [],
   "source": [
    "index = inverted_index(df_index)"
   ]
  },
  {
   "cell_type": "code",
   "execution_count": 45,
   "metadata": {},
   "outputs": [
    {
     "data": {
      "text/html": [
       "<div>\n",
       "<style scoped>\n",
       "    .dataframe tbody tr th:only-of-type {\n",
       "        vertical-align: middle;\n",
       "    }\n",
       "\n",
       "    .dataframe tbody tr th {\n",
       "        vertical-align: top;\n",
       "    }\n",
       "\n",
       "    .dataframe thead th {\n",
       "        text-align: right;\n",
       "    }\n",
       "</style>\n",
       "<table border=\"1\" class=\"dataframe\">\n",
       "  <thead>\n",
       "    <tr style=\"text-align: right;\">\n",
       "      <th></th>\n",
       "      <th>Информация</th>\n",
       "      <th>Слово</th>\n",
       "    </tr>\n",
       "  </thead>\n",
       "  <tbody>\n",
       "    <tr>\n",
       "      <th>0</th>\n",
       "      <td>[[928, 157, 0.0255], [1053, 383, 0.0209], [112...</td>\n",
       "      <td>00</td>\n",
       "    </tr>\n",
       "    <tr>\n",
       "      <th>1</th>\n",
       "      <td>[[28, 72, 0.0139], [47, 39, 0.0513], [68, 228,...</td>\n",
       "      <td>01</td>\n",
       "    </tr>\n",
       "    <tr>\n",
       "      <th>2</th>\n",
       "      <td>[[50, 141, 0.0071], [134, 127, 0.0236], [137, ...</td>\n",
       "      <td>02</td>\n",
       "    </tr>\n",
       "    <tr>\n",
       "      <th>3</th>\n",
       "      <td>[[45, 128, 0.0078], [53, 97, 0.0103], [94, 53,...</td>\n",
       "      <td>03</td>\n",
       "    </tr>\n",
       "    <tr>\n",
       "      <th>4</th>\n",
       "      <td>[[27, 90, 0.0111], [30, 73, 0.0137], [45, 128,...</td>\n",
       "      <td>04</td>\n",
       "    </tr>\n",
       "  </tbody>\n",
       "</table>\n",
       "</div>"
      ],
      "text/plain": [
       "                                          Информация Слово\n",
       "0  [[928, 157, 0.0255], [1053, 383, 0.0209], [112...    00\n",
       "1  [[28, 72, 0.0139], [47, 39, 0.0513], [68, 228,...    01\n",
       "2  [[50, 141, 0.0071], [134, 127, 0.0236], [137, ...    02\n",
       "3  [[45, 128, 0.0078], [53, 97, 0.0103], [94, 53,...    03\n",
       "4  [[27, 90, 0.0111], [30, 73, 0.0137], [45, 128,...    04"
      ]
     },
     "execution_count": 45,
     "metadata": {},
     "output_type": "execute_result"
    }
   ],
   "source": [
    "index.head()"
   ]
  },
  {
   "cell_type": "code",
   "execution_count": 46,
   "metadata": {},
   "outputs": [],
   "source": [
    "from math import log\n",
    "\n",
    "k1 = 2.0\n",
    "b = 0.75\n",
    "avgdl = round(sum([len(q.split(' ')) for q in lemmatized_texts])/len(lemmatized_texts))#средняя длина док-ов в коллекции\n",
    "N = len(lemmatized_texts)\n",
    "\n",
    "def score_BM25(qf, dl, avgdl, k1, b, N, n) -> float:\n",
    "    \"\"\"\n",
    "    Compute similarity score between search query and documents from collection\n",
    "    :return: score\n",
    "    \"\"\"\n",
    "    score = math.log((N-n+0.5)/(n+0.5)) * (k1+1)*qf/(qf+k1*(1-b+b*(dl/avgdl)))\n",
    "    return score"
   ]
  },
  {
   "cell_type": "code",
   "execution_count": 47,
   "metadata": {
    "collapsed": true
   },
   "outputs": [],
   "source": [
    "def compute_sim(lemma, inverted_index) -> float:\n",
    "    \"\"\"\n",
    "    Compute similarity score between word in search query and all document  from collection\n",
    "    :return: score\n",
    "    \"\"\"\n",
    "    doc_list = list(inverted_index.loc[inverted_index['Слово'] == lemma]['Информация'])[0]\n",
    "    relevance_dict = {}\n",
    "    for doc in doc_list:\n",
    "        relevance_dict[doc[0]] = score_BM25(doc[2], doc[1], avgdl, k1, b, N, len(doc_list))\n",
    "    return relevance_dict"
   ]
  },
  {
   "cell_type": "code",
   "execution_count": 48,
   "metadata": {},
   "outputs": [],
   "source": [
    "def get_search_result(query, top=5) -> list:\n",
    "    \"\"\"\n",
    "    Compute sim score between search query and all documents in collection\n",
    "    Collect as pair (doc_id, score)\n",
    "    :param query: input text\n",
    "    :return: list of lists with (doc_id, score)\n",
    "    \"\"\"\n",
    "    query = [que for que in preprocessing(query) if que in words]\n",
    "    #print(query)\n",
    "    res = {}\n",
    "    for word in query:\n",
    "        relevance_dict = compute_sim(word, index)\n",
    "        res = {k: res.get(k, 0) + relevance_dict.get(k, 0) for k in set(res) | set(relevance_dict)}\n",
    "    return sorted(res.items(), key=operator.itemgetter(1), reverse=True)[0:top]"
   ]
  },
  {
   "cell_type": "markdown",
   "metadata": {},
   "source": [
    "# Blending"
   ]
  },
  {
   "cell_type": "markdown",
   "metadata": {},
   "source": [
    "## * w2v + d2v"
   ]
  },
  {
   "cell_type": "code",
   "execution_count": 177,
   "metadata": {
    "collapsed": true
   },
   "outputs": [],
   "source": [
    "def blend_d2v_w2v(res_w2v, res_d2v, v, top=5):\n",
    "    res_w2v = [res1 + (k,) for k, res1 in enumerate(res_w2v)]\n",
    "    res_d2v = [res2 + (j,) for j, res2 in enumerate(res_d2v)]\n",
    "    res_w2v = sorted(res_w2v, key = lambda x: (x[0], x[2]))\n",
    "    res_d2v = sorted(res_d2v, key = lambda x: (x[0], x[2]))\n",
    "    ranges = []\n",
    "    for i, res3 in enumerate(res_w2v):\n",
    "        new_range = res3[1] * v + res_d2v[i][1] * (1-v)\n",
    "        ranges.append((res3[0], new_range))\n",
    "    return sorted(ranges, key = lambda x: (x[1]), reverse=True)[0:top]"
   ]
  },
  {
   "cell_type": "code",
   "execution_count": 178,
   "metadata": {
    "collapsed": true
   },
   "outputs": [],
   "source": [
    "res_w2v = [(1, 0.3), (2, 0.2), (2, 0.1), (3, 0.1), (4, 0.1)]\n",
    "res_d2v = [(2, 0.8), (1, 0.7), (4, 0.2), (3, 0.1), (2, 0.1)]"
   ]
  },
  {
   "cell_type": "code",
   "execution_count": 179,
   "metadata": {},
   "outputs": [
    {
     "data": {
      "text/plain": [
       "[(1, 0.37999999999999995),\n",
       " (2, 0.32),\n",
       " (4, 0.12000000000000001),\n",
       " (2, 0.1),\n",
       " (3, 0.1)]"
      ]
     },
     "execution_count": 179,
     "metadata": {},
     "output_type": "execute_result"
    }
   ],
   "source": [
    "blend_d2v_w2v(res_w2v, res_d2v, 0.8, top=5)"
   ]
  },
  {
   "cell_type": "markdown",
   "metadata": {},
   "source": [
    "## * w2v + d2v +inverted index"
   ]
  },
  {
   "cell_type": "code",
   "execution_count": null,
   "metadata": {
    "collapsed": true
   },
   "outputs": [],
   "source": [
    "# Это подумаю с авито"
   ]
  },
  {
   "cell_type": "markdown",
   "metadata": {},
   "source": [
    "# Расчет точности"
   ]
  },
  {
   "cell_type": "code",
   "execution_count": 51,
   "metadata": {},
   "outputs": [],
   "source": [
    "def accuracy_index(questions, top=5):\n",
    "    true = 0\n",
    "    for i, q in tqdm(enumerate(questions)):\n",
    "        top5 = [res[0] for res in get_search_result(q, top=top)]\n",
    "        if i in top5:\n",
    "            true += 1\n",
    "    ACCURACY = true / len(questions)\n",
    "    return ACCURACY"
   ]
  },
  {
   "cell_type": "code",
   "execution_count": 52,
   "metadata": {
    "collapsed": true
   },
   "outputs": [],
   "source": [
    "def accuracy_w2v(questions, tfidf_questions, w2v, multiply_tfidf=True, pos=False, top=5):\n",
    "    true = 0\n",
    "    for i, q in tqdm(enumerate(questions)):\n",
    "        top5 = [res[0] for res in search_w2v(q, model_without_pos, w2v, df['id_answer'], tfidf_questions, i, multiply_tfidf=multiply_tfidf, pos=pos, top=top)]\n",
    "        if i in top5:\n",
    "            true += 1\n",
    "    ACCURACY = true / len(questions)\n",
    "    return ACCURACY"
   ]
  },
  {
   "cell_type": "code",
   "execution_count": 61,
   "metadata": {
    "collapsed": true
   },
   "outputs": [],
   "source": [
    "def accuracy_d2v(questions, model, d2v, steps=5, alpha=0.1, top=5):\n",
    "    true = 0\n",
    "    for i, q in tqdm(enumerate(questions)):\n",
    "        top5 = [res[0] for res in search_d2v(q, model_doc2vec, d2v, df['id_answer'], steps=steps, alpha=alpha, top=top)]\n",
    "        if i in top5:\n",
    "            true += 1\n",
    "    ACCURACY = true / len(questions)\n",
    "    return ACCURACY"
   ]
  },
  {
   "cell_type": "markdown",
   "metadata": {},
   "source": [
    "### Обратный индекс"
   ]
  },
  {
   "cell_type": "code",
   "execution_count": 54,
   "metadata": {},
   "outputs": [
    {
     "data": {
      "application/vnd.jupyter.widget-view+json": {
       "model_id": "cfaf725878c9410c95c40587ae62dd1a",
       "version_major": 2,
       "version_minor": 0
      },
      "text/plain": [
       "A Jupyter Widget"
      ]
     },
     "metadata": {},
     "output_type": "display_data"
    },
    {
     "name": "stdout",
     "output_type": "stream",
     "text": [
      "\n"
     ]
    },
    {
     "data": {
      "application/vnd.jupyter.widget-view+json": {
       "model_id": "4f35c2b228424803b84386bd6e0511ee",
       "version_major": 2,
       "version_minor": 0
      },
      "text/plain": [
       "A Jupyter Widget"
      ]
     },
     "metadata": {},
     "output_type": "display_data"
    },
    {
     "name": "stdout",
     "output_type": "stream",
     "text": [
      "\n"
     ]
    }
   ],
   "source": [
    "acc_5_ind = accuracy_index(questions)\n",
    "acc_10_ind = accuracy_index(questions, top=10)"
   ]
  },
  {
   "cell_type": "code",
   "execution_count": 55,
   "metadata": {},
   "outputs": [
    {
     "name": "stdout",
     "output_type": "stream",
     "text": [
      "Точность метода \"обратный индекс\" на top-5: 0.3092485549132948\n",
      "Точность метода \"обратный индекс\" на top-10: 0.3901734104046243\n"
     ]
    }
   ],
   "source": [
    "print('Точность метода \"обратный индекс\" на top-5:', acc_5_ind)\n",
    "print('Точность метода \"обратный индекс\" на top-10:', acc_10_ind)"
   ]
  },
  {
   "cell_type": "markdown",
   "metadata": {},
   "source": [
    "### w2v"
   ]
  },
  {
   "cell_type": "code",
   "execution_count": 56,
   "metadata": {},
   "outputs": [
    {
     "data": {
      "application/vnd.jupyter.widget-view+json": {
       "model_id": "5423880a2dde4d32a3bfc15dbc3c0d22",
       "version_major": 2,
       "version_minor": 0
      },
      "text/plain": [
       "A Jupyter Widget"
      ]
     },
     "metadata": {},
     "output_type": "display_data"
    },
    {
     "name": "stdout",
     "output_type": "stream",
     "text": [
      "\n"
     ]
    },
    {
     "data": {
      "application/vnd.jupyter.widget-view+json": {
       "model_id": "95e772559ac9459bb9e4055b96ae97c4",
       "version_major": 2,
       "version_minor": 0
      },
      "text/plain": [
       "A Jupyter Widget"
      ]
     },
     "metadata": {},
     "output_type": "display_data"
    },
    {
     "name": "stdout",
     "output_type": "stream",
     "text": [
      "\n"
     ]
    },
    {
     "data": {
      "application/vnd.jupyter.widget-view+json": {
       "model_id": "3d69e0252edd4a0083e18d55c7d93abb",
       "version_major": 2,
       "version_minor": 0
      },
      "text/plain": [
       "A Jupyter Widget"
      ]
     },
     "metadata": {},
     "output_type": "display_data"
    },
    {
     "name": "stdout",
     "output_type": "stream",
     "text": [
      "\n"
     ]
    },
    {
     "data": {
      "application/vnd.jupyter.widget-view+json": {
       "model_id": "b42bf7ac322444d5908698538ee24b41",
       "version_major": 2,
       "version_minor": 0
      },
      "text/plain": [
       "A Jupyter Widget"
      ]
     },
     "metadata": {},
     "output_type": "display_data"
    },
    {
     "name": "stdout",
     "output_type": "stream",
     "text": [
      "\n"
     ]
    },
    {
     "data": {
      "application/vnd.jupyter.widget-view+json": {
       "model_id": "fea7224ee938449885565200eea47b1f",
       "version_major": 2,
       "version_minor": 0
      },
      "text/plain": [
       "A Jupyter Widget"
      ]
     },
     "metadata": {},
     "output_type": "display_data"
    },
    {
     "name": "stdout",
     "output_type": "stream",
     "text": [
      "\n"
     ]
    },
    {
     "data": {
      "application/vnd.jupyter.widget-view+json": {
       "model_id": "8f2da97bd9854b578dd57af7389506ee",
       "version_major": 2,
       "version_minor": 0
      },
      "text/plain": [
       "A Jupyter Widget"
      ]
     },
     "metadata": {},
     "output_type": "display_data"
    },
    {
     "name": "stdout",
     "output_type": "stream",
     "text": [
      "\n"
     ]
    },
    {
     "data": {
      "application/vnd.jupyter.widget-view+json": {
       "model_id": "4ebc6c354f8f4ef5b965734e72fcb75c",
       "version_major": 2,
       "version_minor": 0
      },
      "text/plain": [
       "A Jupyter Widget"
      ]
     },
     "metadata": {},
     "output_type": "display_data"
    },
    {
     "name": "stdout",
     "output_type": "stream",
     "text": [
      "\n"
     ]
    },
    {
     "data": {
      "application/vnd.jupyter.widget-view+json": {
       "model_id": "157af35538574528ae837d454422b5db",
       "version_major": 2,
       "version_minor": 0
      },
      "text/plain": [
       "A Jupyter Widget"
      ]
     },
     "metadata": {},
     "output_type": "display_data"
    },
    {
     "name": "stdout",
     "output_type": "stream",
     "text": [
      "\n"
     ]
    },
    {
     "data": {
      "application/vnd.jupyter.widget-view+json": {
       "model_id": "737f3a78c6264fda8cfbdc954e427d9e",
       "version_major": 2,
       "version_minor": 0
      },
      "text/plain": [
       "A Jupyter Widget"
      ]
     },
     "metadata": {},
     "output_type": "display_data"
    },
    {
     "name": "stdout",
     "output_type": "stream",
     "text": [
      "\n"
     ]
    },
    {
     "data": {
      "application/vnd.jupyter.widget-view+json": {
       "model_id": "ceb68dcb495c48bbbada38d6963595a4",
       "version_major": 2,
       "version_minor": 0
      },
      "text/plain": [
       "A Jupyter Widget"
      ]
     },
     "metadata": {},
     "output_type": "display_data"
    },
    {
     "name": "stdout",
     "output_type": "stream",
     "text": [
      "\n"
     ]
    }
   ],
   "source": [
    "acc_5_w2v = accuracy_w2v(questions, tfidf_questions, df['w2v'], multiply_tfidf=False, pos=False)\n",
    "acc_10_w2v = accuracy_w2v(questions, tfidf_questions, df['w2v'], multiply_tfidf=False, pos=False, top=10)\n",
    "my_acc_5_w2v = accuracy_w2v(questions, tfidf_questions, df['mu_w2v'], multiply_tfidf=False, pos=False)\n",
    "my_acc_10_w2v = accuracy_w2v(questions, tfidf_questions, df['mu_w2v'], multiply_tfidf=False, pos=False, top=10)\n",
    "acc_5_w2v_pos = accuracy_w2v(questions, tfidf_questions, df['w2v_pos'], multiply_tfidf=False, pos=True)\n",
    "acc_10_w2v_pos = accuracy_w2v(questions, tfidf_questions, df['w2v_pos'], multiply_tfidf=False, pos=True, top=10)\n",
    "acc_5_w2v_tfidf = accuracy_w2v(questions, tfidf_questions, df['w2v_tfidf'], multiply_tfidf=True, pos=False)\n",
    "acc_10_w2v_tfidf = accuracy_w2v(questions, tfidf_questions, df['w2v_tfidf'], multiply_tfidf=True, pos=False, top=10)\n",
    "acc_5_w2v_pos_tfidf = accuracy_w2v(questions, tfidf_questions, df['w2v_pos_tfidf'], multiply_tfidf=True, pos=True)\n",
    "acc_10_w2v_pos_tfidf = accuracy_w2v(questions, tfidf_questions, df['w2v_pos_tfidf'], multiply_tfidf=True, pos=True, top=10)"
   ]
  },
  {
   "cell_type": "code",
   "execution_count": 57,
   "metadata": {},
   "outputs": [
    {
     "name": "stdout",
     "output_type": "stream",
     "text": [
      "Точность метода \"w2v\" на top-5: 0.2810693641618497\n",
      "Точность метода \"w2v\" на top-10: 0.2810693641618497\n",
      "Точность метода \"my w2v\" на top-5: 0.004335260115606936\n",
      "Точность метода \"my w2v\" на top-10: 0.008670520231213872\n",
      "Точность метода \"w2v+pos\" на top-5: 0.002890173410404624\n",
      "Точность метода \"w2v+pos\" на top-10: 0.002890173410404624\n",
      "Точность метода \"w2v+tfidf\" на top-5: 0.3041907514450867\n",
      "Точность метода \"w2v+tfidf\" на top-10: 0.3041907514450867\n",
      "Точность метода \"w2v+pos+tfidf\" на top-5: 0.002167630057803468\n",
      "Точность метода \"w2v+pos+tfidf\" на top-10: 0.002167630057803468\n"
     ]
    }
   ],
   "source": [
    "print('Точность метода \"w2v\" на top-5:', acc_5_w2v)\n",
    "print('Точность метода \"w2v\" на top-10:', acc_5_w2v)\n",
    "print('Точность метода \"my w2v\" на top-5:', my_acc_5_w2v)\n",
    "print('Точность метода \"my w2v\" на top-10:', my_acc_10_w2v)\n",
    "print('Точность метода \"w2v+pos\" на top-5:', acc_5_w2v_pos)\n",
    "print('Точность метода \"w2v+pos\" на top-10:', acc_5_w2v_pos)\n",
    "print('Точность метода \"w2v+tfidf\" на top-5:', acc_5_w2v_tfidf)\n",
    "print('Точность метода \"w2v+tfidf\" на top-10:', acc_5_w2v_tfidf)\n",
    "print('Точность метода \"w2v+pos+tfidf\" на top-5:', acc_5_w2v_pos_tfidf)\n",
    "print('Точность метода \"w2v+pos+tfidf\" на top-10:', acc_5_w2v_pos_tfidf)"
   ]
  },
  {
   "cell_type": "markdown",
   "metadata": {},
   "source": [
    "### Лучший метод - \"w2v+tfidf\""
   ]
  },
  {
   "cell_type": "markdown",
   "metadata": {},
   "source": [
    "### d2v"
   ]
  },
  {
   "cell_type": "code",
   "execution_count": null,
   "metadata": {
    "collapsed": true
   },
   "outputs": [],
   "source": [
    "acc_5_d2v = accuracy_d2v(questions, model_doc2vec, df['d2v_simple'])\n",
    "acc_10_d2v = accuracy_d2v(questions, model_doc2vec, df['d2v_simple'], top=10)\n",
    "acc_5_d2v_hypo = accuracy_d2v(questions, model_doc2vec, df['d2v_hypo'], steps=10, alpha=0.025)\n",
    "acc_10_d2v_hypo = accuracy_d2v(questions, model_doc2vec, df['d2v_hypo'], steps=10, alpha=0.025, top=10)"
   ]
  },
  {
   "cell_type": "code",
   "execution_count": 68,
   "metadata": {},
   "outputs": [
    {
     "name": "stdout",
     "output_type": "stream",
     "text": [
      "Точность метода \"d2v\" на top-5: 0.13800578034682082\n",
      "Точность метода \"d2v\" на top-10: 0.16184971098265896\n",
      "Точность метода \"d2v+гиперпараметры\" на top-5: 0.1611271676300578\n",
      "Точность метода \"d2v+гиперпараметры\" на top-10: 0.18786127167630057\n"
     ]
    }
   ],
   "source": [
    "print('Точность метода \"d2v\" на top-5:', acc_5_d2v)\n",
    "print('Точность метода \"d2v\" на top-10:', acc_10_d2v)\n",
    "print('Точность метода \"d2v+гиперпараметры\" на top-5:', acc_5_d2v_hypo)\n",
    "print('Точность метода \"d2v+гиперпараметры\" на top-10:', acc_10_d2v_hypo)"
   ]
  },
  {
   "cell_type": "markdown",
   "metadata": {},
   "source": [
    "### Лучший метод - \"d2v+гиперпараметры\""
   ]
  },
  {
   "cell_type": "markdown",
   "metadata": {},
   "source": [
    "### Возьмем лучшие модели w2v и d2v"
   ]
  },
  {
   "cell_type": "code",
   "execution_count": 197,
   "metadata": {
    "collapsed": true
   },
   "outputs": [],
   "source": [
    "def accuracy_blending(v, questions, tfidf_questions, w2v, d2v, multiply_tfidf=True, pos=False, top=1384, steps=5, alpha=0.1):\n",
    "    true = 0\n",
    "    for i, q in enumerate(tqdm(questions)):\n",
    "        top_w2v = [(res1[0], res1[1]) for res1 in search_w2v(q, model_without_pos, w2v, df['id_answer'], tfidf_questions, i, multiply_tfidf=multiply_tfidf, pos=pos, top=1384)]\n",
    "        top_d2v = [(res2[0], res2[1]) for res2 in search_d2v(q, model_doc2vec, d2v, df['id_answer'], steps=steps, alpha=alpha, top=1384)]\n",
    "        top = [res3[0] for res3 in blend_d2v_w2v(top_w2v, top_d2v, v, top=5)]\n",
    "        if i in top:\n",
    "            true += 1\n",
    "    ACCURACY = true / len(questions)\n",
    "    return ACCURACY"
   ]
  },
  {
   "cell_type": "code",
   "execution_count": 198,
   "metadata": {},
   "outputs": [
    {
     "data": {
      "application/vnd.jupyter.widget-view+json": {
       "model_id": "646e5ee4d9f3418bb26d61b168419b73",
       "version_major": 2,
       "version_minor": 0
      },
      "text/plain": [
       "A Jupyter Widget"
      ]
     },
     "metadata": {},
     "output_type": "display_data"
    },
    {
     "name": "stdout",
     "output_type": "stream",
     "text": [
      "Точность метода \"d2v+w2v\" на top-5 с весами 0.1 и 0.9 : 0.022398843930635837\n"
     ]
    },
    {
     "data": {
      "application/vnd.jupyter.widget-view+json": {
       "model_id": "1af4f75fe068499287a3d117c1cfb620",
       "version_major": 2,
       "version_minor": 0
      },
      "text/plain": [
       "A Jupyter Widget"
      ]
     },
     "metadata": {},
     "output_type": "display_data"
    },
    {
     "name": "stdout",
     "output_type": "stream",
     "text": [
      "Точность метода \"d2v+w2v\" на top-5 с весами 0.2 и 0.8 : 0.04407514450867052\n"
     ]
    },
    {
     "data": {
      "application/vnd.jupyter.widget-view+json": {
       "model_id": "5924363e8332410494ab80d70e157b0c",
       "version_major": 2,
       "version_minor": 0
      },
      "text/plain": [
       "A Jupyter Widget"
      ]
     },
     "metadata": {},
     "output_type": "display_data"
    },
    {
     "name": "stdout",
     "output_type": "stream",
     "text": [
      "Точность метода \"d2v+w2v\" на top-5 с весами 0.3 и 0.7 : 0.08598265895953758\n"
     ]
    },
    {
     "data": {
      "application/vnd.jupyter.widget-view+json": {
       "model_id": "a3beb97b5a7c44b68c1ff11b26c4247d",
       "version_major": 2,
       "version_minor": 0
      },
      "text/plain": [
       "A Jupyter Widget"
      ]
     },
     "metadata": {},
     "output_type": "display_data"
    },
    {
     "name": "stdout",
     "output_type": "stream",
     "text": [
      "Точность метода \"d2v+w2v\" на top-5 с весами 0.4 и 0.6 : 0.13583815028901733\n"
     ]
    },
    {
     "data": {
      "application/vnd.jupyter.widget-view+json": {
       "model_id": "3d29f4ce4d604ce3bdb9cd99324be3a6",
       "version_major": 2,
       "version_minor": 0
      },
      "text/plain": [
       "A Jupyter Widget"
      ]
     },
     "metadata": {},
     "output_type": "display_data"
    },
    {
     "name": "stdout",
     "output_type": "stream",
     "text": [
      "Точность метода \"d2v+w2v\" на top-5 с весами 0.5 и 0.5 : 0.1907514450867052\n"
     ]
    },
    {
     "data": {
      "application/vnd.jupyter.widget-view+json": {
       "model_id": "097d846ad6754f17b491f76d3aa164fd",
       "version_major": 2,
       "version_minor": 0
      },
      "text/plain": [
       "A Jupyter Widget"
      ]
     },
     "metadata": {},
     "output_type": "display_data"
    },
    {
     "name": "stdout",
     "output_type": "stream",
     "text": [
      "Точность метода \"d2v+w2v\" на top-5 с весами 0.5 и 0.5 : 0.23410404624277456\n"
     ]
    },
    {
     "data": {
      "application/vnd.jupyter.widget-view+json": {
       "model_id": "62ab37234f834726b67dd6240c7ee0e5",
       "version_major": 2,
       "version_minor": 0
      },
      "text/plain": [
       "A Jupyter Widget"
      ]
     },
     "metadata": {},
     "output_type": "display_data"
    },
    {
     "name": "stdout",
     "output_type": "stream",
     "text": [
      "Точность метода \"d2v+w2v\" на top-5 с весами 0.6 и 0.4 : 0.2630057803468208\n"
     ]
    },
    {
     "data": {
      "application/vnd.jupyter.widget-view+json": {
       "model_id": "55e14ee9d27544d59182b0bd979d8a50",
       "version_major": 2,
       "version_minor": 0
      },
      "text/plain": [
       "A Jupyter Widget"
      ]
     },
     "metadata": {},
     "output_type": "display_data"
    },
    {
     "name": "stdout",
     "output_type": "stream",
     "text": [
      "Точность метода \"d2v+w2v\" на top-5 с весами 0.7 и 0.3 : 0.2904624277456647\n"
     ]
    },
    {
     "data": {
      "application/vnd.jupyter.widget-view+json": {
       "model_id": "9e290e008ec34db1b3e7955a0cbddd27",
       "version_major": 2,
       "version_minor": 0
      },
      "text/plain": [
       "A Jupyter Widget"
      ]
     },
     "metadata": {},
     "output_type": "display_data"
    },
    {
     "name": "stdout",
     "output_type": "stream",
     "text": [
      "Точность метода \"d2v+w2v\" на top-5 с весами 0.8 и 0.2 : 0.3013005780346821\n"
     ]
    },
    {
     "data": {
      "application/vnd.jupyter.widget-view+json": {
       "model_id": "e2edc4c3384e4185bbc53028c46df07c",
       "version_major": 2,
       "version_minor": 0
      },
      "text/plain": [
       "A Jupyter Widget"
      ]
     },
     "metadata": {},
     "output_type": "display_data"
    },
    {
     "name": "stdout",
     "output_type": "stream",
     "text": [
      "Точность метода \"d2v+w2v\" на top-5 с весами 0.9 и 0.1 : 0.3013005780346821\n"
     ]
    }
   ],
   "source": [
    "for v in np.linspace(0.1, 0.9, 10):\n",
    "    acc_blend = accuracy_blending(v, questions, tfidf_questions, df['w2v_tfidf'], df['d2v_hypo'], multiply_tfidf=True, pos=False, top=5, steps=5, alpha=0.1)\n",
    "    print('Точность метода \"d2v+w2v\" на top-5 с весами', str(round(v, 1)), 'и', str(round(1-v, 1)), ':', acc_blend)"
   ]
  },
  {
   "cell_type": "code",
   "execution_count": null,
   "metadata": {
    "collapsed": true
   },
   "outputs": [],
   "source": []
  }
 ],
 "metadata": {
  "kernelspec": {
   "display_name": "Python 3",
   "language": "python",
   "name": "python3"
  },
  "language_info": {
   "codemirror_mode": {
    "name": "ipython",
    "version": 3
   },
   "file_extension": ".py",
   "mimetype": "text/x-python",
   "name": "python",
   "nbconvert_exporter": "python",
   "pygments_lexer": "ipython3",
   "version": "3.6.3"
  }
 },
 "nbformat": 4,
 "nbformat_minor": 2
}
